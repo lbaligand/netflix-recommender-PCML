{
 "cells": [
  {
   "cell_type": "code",
   "execution_count": 34,
   "metadata": {
    "collapsed": false
   },
   "outputs": [
    {
     "name": "stdout",
     "output_type": "stream",
     "text": [
      "The autoreload extension is already loaded. To reload it, use:\n",
      "  %reload_ext autoreload\n"
     ]
    }
   ],
   "source": [
    "# Useful starting lines\n",
    "%matplotlib inline\n",
    "\n",
    "import numpy as np\n",
    "import scipy\n",
    "import scipy.io\n",
    "import scipy.sparse as sp\n",
    "import matplotlib.pyplot as plt\n",
    "%load_ext autoreload\n",
    "%autoreload 2"
   ]
  },
  {
   "cell_type": "markdown",
   "metadata": {},
   "source": [
    "## Load the Data\n",
    "Note that `ratings` is a sparse matrix that in the shape of (num_items, num_users)"
   ]
  },
  {
   "cell_type": "code",
   "execution_count": 55,
   "metadata": {
    "collapsed": false
   },
   "outputs": [
    {
     "name": "stdout",
     "output_type": "stream",
     "text": [
      "number of items: 10000, number of users: 1000\n",
      "Real number of items: 1000, Real number of users: 10000.\n"
     ]
    }
   ],
   "source": [
    "from helpers import load_data\n",
    "\n",
    "path_dataset = \"../Data/data_train.csv\"\n",
    "ratings = load_data(path_dataset).T\n",
    "print(\"Real number of items: {}, Real number of users: {}.\".format(\n",
    "        ratings.shape[0],ratings.shape[1]))"
   ]
  },
  {
   "cell_type": "markdown",
   "metadata": {
    "collapsed": true
   },
   "source": [
    "### Plot the number of ratings per movie and user"
   ]
  },
  {
   "cell_type": "code",
   "execution_count": 36,
   "metadata": {
    "collapsed": false
   },
   "outputs": [
    {
     "data": {
      "image/png": "[encoded data removed]",
      "text/plain": [
       "<matplotlib.figure.Figure at 0x169909b19e8>"
      ]
     },
     "metadata": {},
     "output_type": "display_data"
    },
    {
     "name": "stdout",
     "output_type": "stream",
     "text": [
      "min # of items per user = 3, min # of users per item = 8.\n"
     ]
    }
   ],
   "source": [
    "from plots import plot_raw_data\n",
    "\n",
    "num_items_per_user, num_users_per_item = plot_raw_data(ratings)\n",
    "\n",
    "print(\"min # of items per user = {}, min # of users per item = {}.\".format(\n",
    "        min(num_items_per_user), min(num_users_per_item)))"
   ]
  },
  {
   "cell_type": "markdown",
   "metadata": {},
   "source": [
    "### Split the data into a train and test set"
   ]
  },
  {
   "cell_type": "code",
   "execution_count": 103,
   "metadata": {
    "collapsed": true
   },
   "outputs": [],
   "source": [
    "def add_removed_elements(features, valid_indices, num_elements):\n",
    "    \"\"\"Add removed users or items by replacing it with the mean\n",
    "    \"\"\"\n",
    "    full_features = np.zeros((features.shape[0], num_elements)) + np.mean(features, axis=1).reshape((-1,1))\n",
    "    print(features)\n",
    "    for i, Vi in enumerate(valid_indices):\n",
    "        full_features[:, Vi] = features[:, i]\n",
    "    return full_features"
   ]
  },
  {
   "cell_type": "code",
   "execution_count": 109,
   "metadata": {
    "collapsed": false
   },
   "outputs": [
    {
     "name": "stdout",
     "output_type": "stream",
     "text": [
      "[[  1.   2.   3.]\n",
      " [  5.   6.   7.]\n",
      " [  9.  10.  11.]\n",
      " [  5.   6.   8.]]\n"
     ]
    },
    {
     "data": {
      "text/plain": [
       "array([[  1.        ,   2.        ,   2.        ,   2.        ,   3.        ],\n",
       "       [  5.        ,   6.        ,   6.        ,   6.        ,   7.        ],\n",
       "       [  9.        ,  10.        ,  10.        ,  10.        ,  11.        ],\n",
       "       [  5.        ,   6.33333333,   6.33333333,   6.        ,   8.        ]])"
      ]
     },
     "execution_count": 109,
     "metadata": {},
     "output_type": "execute_result"
    }
   ],
   "source": [
    "features = np.array([[ 1.,  2.,  3.], [ 5.,  6.,  7.], [ 9.,  10.,  11.], [5, 6, 8]])\n",
    "add_removed_elements(features, np.array([0,3,4]), 5)"
   ]
  },
  {
   "cell_type": "code",
   "execution_count": 110,
   "metadata": {
    "collapsed": true
   },
   "outputs": [],
   "source": [
    "def split_data(ratings, num_items_per_user, num_users_per_item,\n",
    "               min_num_ratings, p_test=0.1):\n",
    "    \"\"\"split the ratings to training data and test data.\n",
    "    Args:\n",
    "        ratings:\n",
    "            The given loaded data that corresponds to the ratings of shape (num_items, num_users)\n",
    "        num_users_per_item:\n",
    "            Number of users corresponding to every items. shape = (num_items,)\n",
    "        num_items_per_user:\n",
    "            Number of items corresponding to every users. shape = (num_users,)\n",
    "        p_test:\n",
    "            Probability that one rating is in the test data\n",
    "        min_num_ratings: \n",
    "            all users and items we keep must have at least min_num_ratings per user and per item. \n",
    "    Returns:\n",
    "        valid_ratings:\n",
    "            Ratings that corresponds to the conditions\n",
    "        train:\n",
    "            The splitted train data\n",
    "        test:\n",
    "            The splitted test data\n",
    "    \"\"\"\n",
    "    # set seed\n",
    "    np.random.seed(988)\n",
    "    \n",
    "    # select user and item based on the condition.\n",
    "    valid_users = np.where(num_items_per_user >= min_num_ratings)[0]\n",
    "    valid_items = np.where(num_users_per_item >= min_num_ratings)[0]\n",
    "    valid_ratings = ratings[valid_items, :][: , valid_users]\n",
    "    \n",
    "    # initialization\n",
    "    p_test = 0.1\n",
    "    train = valid_ratings.copy()\n",
    "    test = valid_ratings.copy()\n",
    "    \n",
    "    # split the data and return train and test data.\n",
    "    for u in range(valid_ratings.shape[1]):\n",
    "        non_zero_ratings = valid_ratings[:, u].nonzero()\n",
    "        mask_test = np.random.choice(2, non_zero_ratings[0].shape, p=[1-p_test, p_test]).astype(bool)\n",
    "        test_idxs = non_zero_ratings[0][mask_test]\n",
    "        train_idxs = non_zero_ratings[0][~mask_test]\n",
    "        train[test_idxs, u] = 0\n",
    "        test[train_idxs, u] = 0\n",
    "    \n",
    "    \n",
    "    print(\"Total number of nonzero elements in origial data:{v}\".format(v=ratings.nnz))\n",
    "    print(\"Total number of nonzero elements in train data:{v}\".format(v=train.nnz))\n",
    "    print(\"Total number of nonzero elements in test data:{v}\".format(v=test.nnz))\n",
    "    return valid_ratings, train, test"
   ]
  },
  {
   "cell_type": "code",
   "execution_count": 48,
   "metadata": {
    "collapsed": false
   },
   "outputs": [
    {
     "name": "stdout",
     "output_type": "stream",
     "text": [
      "Total number of nonzero elements in origial data:1176952\n",
      "Total number of nonzero elements in train data:788357\n",
      "Total number of nonzero elements in test data:86770\n"
     ]
    },
    {
     "data": {
      "image/png": "[encoded data removed]",
      "text/plain": [
       "<matplotlib.figure.Figure at 0x1698e271be0>"
      ]
     },
     "metadata": {},
     "output_type": "display_data"
    }
   ],
   "source": [
    "from plots import plot_train_test_data\n",
    "\n",
    "valid_ratings, train, test = split_data(\n",
    "    ratings, num_items_per_user, num_users_per_item, min_num_ratings=100, p_test=0.1)\n",
    "plot_train_test_data(train, test)"
   ]
  },
  {
   "cell_type": "markdown",
   "metadata": {},
   "source": [
    "## Implementing Baselines "
   ]
  },
  {
   "cell_type": "markdown",
   "metadata": {},
   "source": [
    "### Use the global mean to do the prediction"
   ]
  },
  {
   "cell_type": "code",
   "execution_count": 49,
   "metadata": {
    "collapsed": false
   },
   "outputs": [
    {
     "data": {
      "text/plain": [
       "(3.8757365000881578, 1.1301535503343043, 1.1321237549014485)"
      ]
     },
     "execution_count": 49,
     "metadata": {},
     "output_type": "execute_result"
    }
   ],
   "source": [
    "from helpers import calculate_mse\n",
    "\n",
    "def baseline_global_mean(train, test):\n",
    "    \"\"\"baseline method: use the global mean.\n",
    "    Args:\n",
    "        train:\n",
    "            Train data array of shape (num_items, num_users)\n",
    "        test:\n",
    "            Test data array of shape (num_items, num_users)\n",
    "    Returns:\n",
    "        global_mean\n",
    "        RMSE of training data\n",
    "        RMSE of test data\n",
    "    \"\"\"\n",
    "    # Compute the global mean\n",
    "    global_mean = train.sum()/train.nnz\n",
    "    \n",
    "    # Compute the RMSE\n",
    "    tst_nz_indices = test.nonzero()\n",
    "    mse_test = 1/test.nnz * calculate_mse(test[tst_nz_indices].toarray()[0], global_mean)\n",
    "    tr_nz_indices = train.nonzero()\n",
    "    mse_train = 1/train.nnz * calculate_mse(train[tr_nz_indices].toarray()[0], global_mean)\n",
    "    return global_mean, np.sqrt(mse_train), np.sqrt(mse_test)\n",
    "\n",
    "baseline_global_mean(train, test)"
   ]
  },
  {
   "cell_type": "markdown",
   "metadata": {},
   "source": [
    "### Use the user means as the prediction"
   ]
  },
  {
   "cell_type": "code",
   "execution_count": 50,
   "metadata": {
    "collapsed": false
   },
   "outputs": [
    {
     "name": "stdout",
     "output_type": "stream",
     "text": [
      "RMSE on train data: 1.0966065500732878. RMSE on test data: 1.1050502981728634\n"
     ]
    }
   ],
   "source": [
    "def baseline_user_mean(train, test):\n",
    "    \"\"\"baseline method: use the user means as the prediction.\n",
    "    Args:\n",
    "        train:\n",
    "            Train data array of shape (num_items, num_users)\n",
    "        test:\n",
    "            Test data array of shape (num_items, num_users)\n",
    "    Returns:\n",
    "        means:\n",
    "            Array of user's means. shape = (num_users,)\n",
    "        RMSE of training data\n",
    "        RMSE of test data\n",
    "    \"\"\"\n",
    "    # Compute mean for every users\n",
    "    means = np.array(train.sum(axis=0)/train.getnnz(axis=0))[0]\n",
    "    \n",
    "    # Compute the RMSE\n",
    "    tst_nz_idx = test.nonzero()\n",
    "    mse_test = 1/len(tst_nz_idx[1]) * calculate_mse(test[tst_nz_idx].toarray()[0], means[tst_nz_idx[1]])\n",
    "    tr_nz_idx = train.nonzero()\n",
    "    mse_train = 1/len(tr_nz_idx[1]) * calculate_mse(train[tr_nz_idx].toarray()[0], means[tr_nz_idx[1]])\n",
    "    return means, np.sqrt(mse_train), np.sqrt(mse_test)\n",
    "\n",
    "_, rmse_tr, rmse_te = baseline_user_mean(train, test)\n",
    "print(\"RMSE on train data: {}. RMSE on test data: {}\".format(rmse_tr, rmse_te))"
   ]
  },
  {
   "cell_type": "markdown",
   "metadata": {},
   "source": [
    "### Use the item means as the prediction"
   ]
  },
  {
   "cell_type": "code",
   "execution_count": 8,
   "metadata": {
    "collapsed": false
   },
   "outputs": [
    {
     "name": "stdout",
     "output_type": "stream",
     "text": [
      "RMSE on train data: 1.0299238276471723. RMSE on test data: 1.0312489978252488\n"
     ]
    }
   ],
   "source": [
    "def baseline_item_mean(train, test):\n",
    "    \"\"\"baseline method: use item means as the prediction.\n",
    "    Args:\n",
    "        train:\n",
    "            Train data array of shape (num_items, num_users)\n",
    "        test:\n",
    "            Test data array of shape (num_items, num_users)\n",
    "    Returns:\n",
    "        means:\n",
    "            Array of item's means. shape = (num_items,)\n",
    "        RMSE of training data\n",
    "        RMSE of test data\n",
    "    \"\"\"\n",
    "    # Compute mean for every users\n",
    "    means = np.array(train.sum(axis=1).T/train.getnnz(axis=1))[0]\n",
    "    \n",
    "    # Compute the RMSE\n",
    "    tst_nz_idx = test.nonzero()\n",
    "    mse_test = 1/len(tst_nz_idx[0]) * calculate_mse(test[tst_nz_idx].toarray()[0], means[tst_nz_idx[0]])\n",
    "    tr_nz_idx = train.nonzero()\n",
    "    mse_train = 1/len(tr_nz_idx[0]) * calculate_mse(train[tr_nz_idx].toarray()[0], means[tr_nz_idx[0]])\n",
    "    return means, np.sqrt(mse_train), np.sqrt(mse_test)\n",
    "\n",
    "_, rmse_tr, rmse_te = baseline_item_mean(train, test)\n",
    "print(\"RMSE on train data: {}. RMSE on test data: {}\".format(rmse_tr, rmse_te))"
   ]
  },
  {
   "cell_type": "markdown",
   "metadata": {},
   "source": [
    "### Cost function"
   ]
  },
  {
   "cell_type": "code",
   "execution_count": 52,
   "metadata": {
    "collapsed": true
   },
   "outputs": [],
   "source": [
    "def compute_error(data, user_features, item_features, nz):\n",
    "    \"\"\"compute the loss (RMSE) of the prediction of nonzero elements.\"\"\"\n",
    "    nz_data = np.array([data[d,n] for (d,n) in nz])\n",
    "    prediction = np.array([(np.dot(item_features[:, d].T,(user_features[:,n]))) for (d,n) in nz])\n",
    "    return np.sqrt(1/len(nz) * calculate_mse(nz_data, prediction))"
   ]
  },
  {
   "cell_type": "markdown",
   "metadata": {
    "collapsed": true
   },
   "source": [
    "### Learn the Matrix Factorization using SGD"
   ]
  },
  {
   "cell_type": "code",
   "execution_count": 53,
   "metadata": {
    "collapsed": true
   },
   "outputs": [],
   "source": [
    "def init_MF_SGD(train, num_features):\n",
    "    \"\"\"init the parameter for matrix factorization.\"\"\"\n",
    "    # you should return:\n",
    "    #     user_features: shape = num_features, num_user\n",
    "    #     item_features: shape = num_features, num_item\n",
    "    num_item, num_user = train.shape\n",
    "    user_features = np.random.randn(num_features, num_user)\n",
    "    item_features = np.random.randn(num_features, num_item)\n",
    "    return user_features, item_features"
   ]
  },
  {
   "cell_type": "code",
   "execution_count": 54,
   "metadata": {
    "collapsed": false
   },
   "outputs": [
    {
     "name": "stdout",
     "output_type": "stream",
     "text": [
      "learn the matrix factorization using SGD...\n",
      "iter: 0, RMSE on training set: 1.0391309987784803.\n",
      "RMSE on test data: 1.081968413345088.\n"
     ]
    },
    {
     "ename": "KeyboardInterrupt",
     "evalue": "",
     "output_type": "error",
     "traceback": [
      "\u001b[1;31m---------------------------------------------------------------------------\u001b[0m",
      "\u001b[1;31mKeyboardInterrupt\u001b[0m                         Traceback (most recent call last)",
      "\u001b[1;32m<ipython-input-54-fdf94f078cd5>\u001b[0m in \u001b[0;36m<module>\u001b[1;34m()\u001b[0m\n\u001b[0;32m     51\u001b[0m     \u001b[1;32mreturn\u001b[0m \u001b[0muser_features\u001b[0m\u001b[1;33m,\u001b[0m \u001b[0mitem_features\u001b[0m\u001b[1;33m\u001b[0m\u001b[0m\n\u001b[0;32m     52\u001b[0m \u001b[1;33m\u001b[0m\u001b[0m\n\u001b[1;32m---> 53\u001b[1;33m \u001b[0mmatrix_factorization_SGD\u001b[0m\u001b[1;33m(\u001b[0m\u001b[0mtrain\u001b[0m\u001b[1;33m,\u001b[0m \u001b[0mtest\u001b[0m\u001b[1;33m)\u001b[0m\u001b[1;33m\u001b[0m\u001b[0m\n\u001b[0m",
      "\u001b[1;32m<ipython-input-54-fdf94f078cd5>\u001b[0m in \u001b[0;36mmatrix_factorization_SGD\u001b[1;34m(train, test)\u001b[0m\n\u001b[0;32m     34\u001b[0m         \u001b[1;32mfor\u001b[0m \u001b[0md\u001b[0m\u001b[1;33m,\u001b[0m \u001b[0mn\u001b[0m \u001b[1;32min\u001b[0m \u001b[0mnz_train\u001b[0m\u001b[1;33m:\u001b[0m\u001b[1;33m\u001b[0m\u001b[0m\n\u001b[0;32m     35\u001b[0m             \u001b[1;31m# Calculate Gradient\u001b[0m\u001b[1;33m\u001b[0m\u001b[1;33m\u001b[0m\u001b[0m\n\u001b[1;32m---> 36\u001b[1;33m             \u001b[0merror\u001b[0m \u001b[1;33m=\u001b[0m \u001b[0mtrain\u001b[0m\u001b[1;33m[\u001b[0m\u001b[0md\u001b[0m\u001b[1;33m,\u001b[0m \u001b[0mn\u001b[0m\u001b[1;33m]\u001b[0m \u001b[1;33m-\u001b[0m \u001b[1;33m(\u001b[0m\u001b[0mitem_features\u001b[0m\u001b[1;33m[\u001b[0m\u001b[1;33m:\u001b[0m\u001b[1;33m,\u001b[0m \u001b[0md\u001b[0m\u001b[1;33m]\u001b[0m\u001b[1;33m.\u001b[0m\u001b[0mT\u001b[0m \u001b[1;33m@\u001b[0m \u001b[0muser_features\u001b[0m\u001b[1;33m[\u001b[0m\u001b[1;33m:\u001b[0m\u001b[1;33m,\u001b[0m \u001b[0mn\u001b[0m\u001b[1;33m]\u001b[0m\u001b[1;33m)\u001b[0m\u001b[1;33m\u001b[0m\u001b[0m\n\u001b[0m\u001b[0;32m     37\u001b[0m             \u001b[0mgradient\u001b[0m \u001b[1;33m=\u001b[0m \u001b[0mnp\u001b[0m\u001b[1;33m.\u001b[0m\u001b[0mzeros\u001b[0m\u001b[1;33m(\u001b[0m\u001b[1;33m(\u001b[0m\u001b[0mnum_item\u001b[0m \u001b[1;33m+\u001b[0m \u001b[0mnum_user\u001b[0m\u001b[1;33m,\u001b[0m \u001b[0mnum_features\u001b[0m\u001b[1;33m)\u001b[0m\u001b[1;33m)\u001b[0m\u001b[1;33m\u001b[0m\u001b[0m\n\u001b[0;32m     38\u001b[0m             \u001b[0mgradient\u001b[0m\u001b[1;33m[\u001b[0m\u001b[0md\u001b[0m\u001b[1;33m,\u001b[0m \u001b[1;33m:\u001b[0m\u001b[1;33m]\u001b[0m \u001b[1;33m=\u001b[0m \u001b[1;33m-\u001b[0m \u001b[0merror\u001b[0m \u001b[1;33m*\u001b[0m \u001b[0muser_features\u001b[0m\u001b[1;33m[\u001b[0m\u001b[1;33m:\u001b[0m\u001b[1;33m,\u001b[0m \u001b[0mn\u001b[0m\u001b[1;33m]\u001b[0m\u001b[1;33m.\u001b[0m\u001b[0mT\u001b[0m \u001b[1;33m+\u001b[0m \u001b[0mlambda_item\u001b[0m \u001b[1;33m*\u001b[0m \u001b[0mitem_features\u001b[0m\u001b[1;33m[\u001b[0m\u001b[1;33m:\u001b[0m\u001b[1;33m,\u001b[0m \u001b[0md\u001b[0m\u001b[1;33m]\u001b[0m\u001b[1;33m.\u001b[0m\u001b[0mT\u001b[0m\u001b[1;33m\u001b[0m\u001b[0m\n",
      "\u001b[1;31mKeyboardInterrupt\u001b[0m: "
     ]
    }
   ],
   "source": [
    "def matrix_factorization_SGD(train, test):\n",
    "    \"\"\"matrix factorization by SGD.\"\"\"\n",
    "    # define parameters\n",
    "    gamma = 0.01\n",
    "    num_features = 20   # K in the lecture notes\n",
    "    lambda_user = 0.065\n",
    "    lambda_item = 0.065\n",
    "    num_epochs = 20     # number of full passes through the train set\n",
    "    errors = [0]\n",
    "    \n",
    "    num_item, num_user = train.shape\n",
    "    \n",
    "    # set seed\n",
    "    np.random.seed(988)\n",
    "\n",
    "    # init matrix\n",
    "    user_features, item_features = init_MF_SGD(train, num_features)\n",
    "    \n",
    "    # find the non-zero ratings indices \n",
    "    nz_row, nz_col = train.nonzero()\n",
    "    nz_train = list(zip(nz_row, nz_col))\n",
    "    nz_row, nz_col = test.nonzero()\n",
    "    nz_test = list(zip(nz_row, nz_col))\n",
    "\n",
    "    print(\"learn the matrix factorization using SGD...\")\n",
    "    for it in range(num_epochs):   \n",
    "        # decrease step size\n",
    "        gamma /= 1.2\n",
    "        \n",
    "        # shuffle the training rating indices\n",
    "        np.random.shuffle(nz_train)\n",
    "        \n",
    "        # Matrix factorization\n",
    "        for d, n in nz_train:\n",
    "            # Calculate Gradient\n",
    "            error = train[d, n] - (item_features[:, d].T @ user_features[:, n])\n",
    "            gradient = np.zeros((num_item + num_user, num_features))\n",
    "            gradient[d, :] = - error * user_features[:, n].T + lambda_item * item_features[:, d].T\n",
    "            gradient[num_item + n, :] = - error * item_features[:, d].T + lambda_user * user_features[:, n].T\n",
    "            \n",
    "            # Update W and Z\n",
    "            item_features = item_features - gamma*gradient[:num_item,:].T\n",
    "            user_features = user_features - gamma*gradient[num_item:,:].T\n",
    "        # Compute the test and train error\n",
    "        rmse_train = compute_error(train, user_features, item_features, nz_train)\n",
    "        print(\"iter: {}, RMSE on training set: {}.\".format(it, rmse_train))\n",
    "        rmse = compute_error(test, user_features, item_features, nz_test)\n",
    "        print(\"RMSE on test data: {}.\".format(rmse))\n",
    "        errors.append(rmse_train)\n",
    "    \n",
    "    return user_features, item_features\n",
    "\n"
   ]
  },
  {
   "cell_type": "markdown",
   "metadata": {
    "collapsed": true
   },
   "source": [
    "### Learn the Matrix Factorization using Alternating Least Squares"
   ]
  },
  {
   "cell_type": "code",
   "execution_count": 40,
   "metadata": {
    "collapsed": true
   },
   "outputs": [],
   "source": [
    "def update_user_feature(\n",
    "        train, item_features, lambda_user,\n",
    "        nnz_items_per_user, nz_user_itemindices):\n",
    "    \"\"\"update user feature matrix.\"\"\"\n",
    "    num_users = train.shape[1]\n",
    "    K = item_features.shape[0]\n",
    "    Z = np.zeros((K, num_users))\n",
    "    \n",
    "    for n in range(num_users):\n",
    "        nz_item_features_per_user = item_features[:, nz_user_itemindices[n]]\n",
    "        A = nz_item_features_per_user @ nz_item_features_per_user.T + nnz_items_per_user[n] * lambda_user*np.eye(K)\n",
    "        train_per_user_nz_items=train[nz_user_itemindices[n],n] \n",
    "        B = nz_item_features_per_user @ train_per_user_nz_items \n",
    "        Z[:, n] = np.linalg.solve(A, B)[:,0] \n",
    "    return Z\n",
    "\n",
    "def update_item_feature(\n",
    "        train, user_features, lambda_item,\n",
    "        nnz_users_per_item, nz_item_userindices):\n",
    "    \"\"\"update item feature matrix.\"\"\"\n",
    "    num_items = train.shape[0]\n",
    "    K = user_features.shape[0]\n",
    "    W = np.zeros((K, num_items))\n",
    "    \n",
    "    for d in range(num_items):\n",
    "        nz_user_features_per_item = user_features[:, nz_item_userindices[d]]\n",
    "        A = nz_user_features_per_item @ nz_user_features_per_item.T + nnz_users_per_item[d]*lambda_item*np.eye(K)\n",
    "        train_per_item_nz_users=train[d,nz_item_userindices[d]] \n",
    "        B = nz_user_features_per_item @ train_per_item_nz_users.T \n",
    "        W[:, d] = np.linalg.solve(A, B)[:,0]\n",
    "    return W"
   ]
  },
  {
   "cell_type": "code",
   "execution_count": 41,
   "metadata": {
    "collapsed": true
   },
   "outputs": [],
   "source": [
    "def init_MF_ALS(train, num_features):\n",
    "    \"\"\"init the parameter for matrix factorization.\"\"\"\n",
    "    item_means, _, _ = baseline_item_mean(train, train)\n",
    "    num_item, num_user = train.shape\n",
    "    item_features = np.random.randn(num_features, num_item)\n",
    "    item_features[0,:] = item_means\n",
    "    user_means, _, _ = baseline_user_mean(train, train)\n",
    "    user_features = np.random.randn(num_features, num_user)\n",
    "    user_features[0,:] = user_means\n",
    "    return user_features, item_features"
   ]
  },
  {
   "cell_type": "code",
   "execution_count": 42,
   "metadata": {
    "collapsed": false
   },
   "outputs": [],
   "source": [
    "from helpers import build_index_groups\n",
    "\n",
    "\n",
    "def ALS(train, test):\n",
    "    \"\"\"Alternating Least Squares (ALS) algorithm.\"\"\"\n",
    "    # define parameters\n",
    "    num_features = 20   # K in the lecture notes\n",
    "    lambda_user = 0.1\n",
    "    lambda_item = 0.7\n",
    "    stop_criterion = 1e-4\n",
    "    change = 1\n",
    "    error_list = [0, 0]\n",
    "    max_iter = 50\n",
    "    \n",
    "    # set seed\n",
    "    np.random.seed(988)\n",
    "\n",
    "    # init ALS\n",
    "    user_features, item_features = init_MF_ALS(train, num_features)\n",
    "    \n",
    "    # Calculate arguments for the update of Z and W\n",
    "    nnz_items_per_user = train.getnnz(axis=0)\n",
    "    nnz_users_per_item = train.getnnz(axis=1)\n",
    "    nz_user_itemindices = []\n",
    "    nz_item_userindices = []\n",
    "    nz_train, nz_row_colindices, nz_col_rowindices= build_index_groups(train)\n",
    "\n",
    "    for row,colindices in nz_row_colindices:\n",
    "        nz_item_userindices.append(colindices)\n",
    "    for col,rowindices in nz_col_rowindices:\n",
    "        nz_user_itemindices.append(rowindices)\n",
    "    \n",
    "    for it in range(max_iter):        \n",
    "        # Fix W. Solve Z\n",
    "        user_features = update_user_feature(train, item_features, lambda_user, nnz_items_per_user, nz_user_itemindices)\n",
    "        # Fix Z. Solve W\n",
    "        item_features = update_item_feature(train, user_features, lambda_item, nnz_users_per_item, nz_item_userindices)\n",
    "        nz_row, nz_col = train.nonzero()\n",
    "        nz_train = list(zip(nz_row, nz_col))\n",
    "        print(compute_error(train, user_features, item_features, nz_train))\n",
    "    return user_features, item_features\n"
   ]
  },
  {
   "cell_type": "code",
   "execution_count": 44,
   "metadata": {
    "collapsed": false
   },
   "outputs": [],
   "source": [
    "def unvalid_indexes(total_elements, valid_indices):\n",
    "    \"\"\" Return the corresponding unvalid elements indices\n",
    "    if we remove the elements of valid_indices in a data set of size total_elements\"\"\"\n",
    "    return np.delete(range(total_elements),valid_indices)\n",
    "\n",
    "\n",
    "def fill_added_user_features(full_item_features,full_user_features,users_idx_to_calculate,ratings, lambda_user,\n",
    "                              nnz_items_per_user, nz_user_itemindices):\n",
    "    \"\"\"update user feature matrix for a specific set of indices\"\"\"\n",
    "    num_users = ratings.shape[1]\n",
    "    K = item_features.shape[0]\n",
    "    \n",
    "    # Calculate usin full_item_features or item_features ?\n",
    "    \n",
    "    for user_idx in users_idx_to_calculate:\n",
    "        nz_item_features_per_user = full_item_features[:, nz_user_itemindices[user_idx]]\n",
    "        A = nz_item_features_per_user @ nz_item_features_per_user.T + nnz_items_per_user[user_idx] * lambda_user*np.eye(K)\n",
    "        ratings_per_user_nz_items=train[nz_user_itemindices[user_idx],user_idx] \n",
    "        B = nz_item_features_per_user @ ratings_per_user_nz_items \n",
    "        full_user_features[:, user_idx] = np.linalg.solve(A, B)[:,0] \n",
    "    return full_user_features\n",
    "\n",
    "def fill__item_features(full_item_features,full_user_features,items_idx_to_calculate, ratings, lambda_item,\n",
    "                              nnz_users_per_item, nz_item_userindices):\n",
    "    \"\"\"update item feature matrix for a specific set of indices\"\"\"\n",
    "    num_items = ratings.shape[0]\n",
    "    K = user_features.shape[0]\n",
    "    \n",
    "    \n",
    "    # Calculate usin full_user_features or user_features ?\n",
    "    \n",
    "    for d in items_idx_to_calculate:\n",
    "        nz_user_features_per_item = full_user_features[:, nz_item_userindices[d]]\n",
    "        A = nz_user_features_per_item @ nz_user_features_per_item.T + nnz_users_per_item[d]*lambda_item*np.eye(K)\n",
    "        ratings_per_item_nz_users=ratings[d,nz_item_userindices[d]] \n",
    "        B = nz_user_features_per_item @ ratings_per_item_nz_users.T \n",
    "        full_item_features[:, d] = np.linalg.solve(A, B)[:,0]\n",
    "    return full_item_features"
   ]
  },
  {
   "cell_type": "markdown",
   "metadata": {},
   "source": [
    "## Script"
   ]
  },
  {
   "cell_type": "code",
   "execution_count": null,
   "metadata": {
    "collapsed": true
   },
   "outputs": [],
   "source": [
    "matrix_factorization_SGD(train, test)   "
   ]
  },
  {
   "cell_type": "code",
   "execution_count": null,
   "metadata": {
    "collapsed": true
   },
   "outputs": [],
   "source": [
    "user_features,item_features = ALS(train, test)"
   ]
  },
  {
   "cell_type": "code",
   "execution_count": null,
   "metadata": {
    "collapsed": true
   },
   "outputs": [],
   "source": [
    "add_removed_elements(user_features,valid_users,total_num_user)\n",
    "add_removed_elements(item_features,valid_item,total_num_ite)"
   ]
  },
  {
   "cell_type": "code",
   "execution_count": null,
   "metadata": {
    "collapsed": true
   },
   "outputs": [],
   "source": []
  },
  {
   "cell_type": "markdown",
   "metadata": {
    "collapsed": true
   },
   "source": [
    "## Submission"
   ]
  },
  {
   "cell_type": "code",
   "execution_count": 32,
   "metadata": {
    "collapsed": false
   },
   "outputs": [
    {
     "data": {
      "text/plain": [
       "(1000, 10000)"
      ]
     },
     "execution_count": 32,
     "metadata": {},
     "output_type": "execute_result"
    }
   ],
   "source": [
    "test.shape"
   ]
  },
  {
   "cell_type": "code",
   "execution_count": 22,
   "metadata": {
    "collapsed": false
   },
   "outputs": [
    {
     "name": "stdout",
     "output_type": "stream",
     "text": [
      "37 1 3.0\n",
      "r37_c1 2.9460647515\n",
      "73 1 3.0\n",
      "r73_c1 3.40506700833\n",
      "156 1 3.0\n",
      "r156_c1 3.79981341326\n",
      "160 1 3.0\n",
      "r160_c1 4.05807703242\n",
      "248 1 3.0\n",
      "r248_c1 3.06324802582\n",
      "256 1 3.0\n",
      "r256_c1 2.77299003436\n",
      "284 1 3.0\n",
      "r284_c1 4.1864460037\n",
      "400 1 3.0\n",
      "r400_c1 3.34606185688\n",
      "416 1 3.0\n",
      "r416_c1 3.51400725027\n",
      "456 1 3.0\n",
      "r456_c1 4.18657444107\n",
      "474 1 3.0\n",
      "r474_c1 2.7172844796\n",
      "495 1 3.0\n",
      "r495_c1 3.38628316084\n",
      "515 1 3.0\n",
      "r515_c1 3.04446000903\n",
      "518 1 3.0\n",
      "r518_c1 3.88025217036\n",
      "521 1 3.0\n",
      "r521_c1 3.39289031713\n",
      "559 1 3.0\n",
      "r559_c1 4.41399958475\n",
      "596 1 3.0\n",
      "r596_c1 4.15597526348\n",
      "614 1 3.0\n",
      "r614_c1 3.62444344331\n",
      "621 1 3.0\n",
      "r621_c1 3.86825532429\n",
      "661 1 3.0\n",
      "r661_c1 2.93737255152\n",
      "697 1 3.0\n",
      "r697_c1 2.91872015429\n",
      "710 1 3.0\n",
      "r710_c1 4.32427761257\n",
      "713 1 3.0\n",
      "r713_c1 2.73521353905\n",
      "732 1 3.0\n",
      "r732_c1 3.23059824061\n",
      "807 1 3.0\n",
      "r807_c1 2.6748923655\n",
      "824 1 3.0\n",
      "r824_c1 4.19589643909\n",
      "926 1 3.0\n"
     ]
    },
    {
     "ename": "IndexError",
     "evalue": "index 926 is out of bounds for axis 1 with size 877",
     "output_type": "error",
     "traceback": [
      "\u001b[0;31m---------------------------------------------------------------------------\u001b[0m",
      "\u001b[0;31mIndexError\u001b[0m                                Traceback (most recent call last)",
      "\u001b[0;32m<ipython-input-22-357889f61373>\u001b[0m in \u001b[0;36m<module>\u001b[0;34m()\u001b[0m\n\u001b[1;32m     13\u001b[0m             \u001b[0mprint\u001b[0m\u001b[1;33m(\u001b[0m \u001b[1;34m\"r{}_c{}\"\u001b[0m\u001b[1;33m.\u001b[0m\u001b[0mformat\u001b[0m\u001b[1;33m(\u001b[0m\u001b[0muser\u001b[0m\u001b[1;33m,\u001b[0m\u001b[0mitem\u001b[0m\u001b[1;33m)\u001b[0m\u001b[1;33m,\u001b[0m \u001b[0mpredictions\u001b[0m\u001b[1;33m[\u001b[0m\u001b[0mitem\u001b[0m\u001b[1;33m,\u001b[0m\u001b[0muser\u001b[0m\u001b[1;33m]\u001b[0m\u001b[1;33m)\u001b[0m\u001b[1;33m\u001b[0m\u001b[0m\n\u001b[1;32m     14\u001b[0m             \u001b[0mwriter\u001b[0m\u001b[1;33m.\u001b[0m\u001b[0mwriterow\u001b[0m\u001b[1;33m(\u001b[0m\u001b[1;33m{\u001b[0m\u001b[1;34m'Id'\u001b[0m\u001b[1;33m:\u001b[0m \u001b[1;34m\"r{}_c{}\"\u001b[0m\u001b[1;33m.\u001b[0m\u001b[0mformat\u001b[0m\u001b[1;33m(\u001b[0m\u001b[0muser\u001b[0m\u001b[1;33m,\u001b[0m\u001b[0mitem\u001b[0m\u001b[1;33m)\u001b[0m\u001b[1;33m,\u001b[0m \u001b[1;34m'Prediction'\u001b[0m\u001b[1;33m:\u001b[0m \u001b[0mpredictions\u001b[0m\u001b[1;33m[\u001b[0m\u001b[0mitem\u001b[0m\u001b[1;33m,\u001b[0m\u001b[0muser\u001b[0m\u001b[1;33m]\u001b[0m\u001b[1;33m}\u001b[0m\u001b[1;33m)\u001b[0m\u001b[1;33m\u001b[0m\u001b[0m\n\u001b[0;32m---> 15\u001b[0;31m \u001b[0mcreate_submission_csv\u001b[0m\u001b[1;33m(\u001b[0m\u001b[0muser_features\u001b[0m\u001b[1;33m.\u001b[0m\u001b[0mT\u001b[0m \u001b[1;33m@\u001b[0m \u001b[0mitem_features\u001b[0m\u001b[1;33m,\u001b[0m\u001b[1;34m\"../Data/sampleSubmission.csv\"\u001b[0m\u001b[1;33m,\u001b[0m\u001b[1;34m\"./submission.csv\"\u001b[0m\u001b[1;33m)\u001b[0m\u001b[1;33m\u001b[0m\u001b[0m\n\u001b[0m",
      "\u001b[0;32m<ipython-input-22-357889f61373>\u001b[0m in \u001b[0;36mcreate_submission_csv\u001b[0;34m(predictions, sample_submission_filename, submission_filename)\u001b[0m\n\u001b[1;32m     11\u001b[0m         \u001b[1;32mfor\u001b[0m \u001b[0muser\u001b[0m\u001b[1;33m,\u001b[0m\u001b[0mitem\u001b[0m\u001b[1;33m,\u001b[0m\u001b[0mfake_rating\u001b[0m \u001b[1;32min\u001b[0m \u001b[0msample_data\u001b[0m\u001b[1;33m:\u001b[0m\u001b[1;33m\u001b[0m\u001b[0m\n\u001b[1;32m     12\u001b[0m             \u001b[0mprint\u001b[0m\u001b[1;33m(\u001b[0m\u001b[0muser\u001b[0m\u001b[1;33m,\u001b[0m\u001b[0mitem\u001b[0m\u001b[1;33m,\u001b[0m\u001b[0mfake_rating\u001b[0m\u001b[1;33m)\u001b[0m\u001b[1;33m\u001b[0m\u001b[0m\n\u001b[0;32m---> 13\u001b[0;31m             \u001b[0mprint\u001b[0m\u001b[1;33m(\u001b[0m \u001b[1;34m\"r{}_c{}\"\u001b[0m\u001b[1;33m.\u001b[0m\u001b[0mformat\u001b[0m\u001b[1;33m(\u001b[0m\u001b[0muser\u001b[0m\u001b[1;33m,\u001b[0m\u001b[0mitem\u001b[0m\u001b[1;33m)\u001b[0m\u001b[1;33m,\u001b[0m \u001b[0mpredictions\u001b[0m\u001b[1;33m[\u001b[0m\u001b[0mitem\u001b[0m\u001b[1;33m,\u001b[0m\u001b[0muser\u001b[0m\u001b[1;33m]\u001b[0m\u001b[1;33m)\u001b[0m\u001b[1;33m\u001b[0m\u001b[0m\n\u001b[0m\u001b[1;32m     14\u001b[0m             \u001b[0mwriter\u001b[0m\u001b[1;33m.\u001b[0m\u001b[0mwriterow\u001b[0m\u001b[1;33m(\u001b[0m\u001b[1;33m{\u001b[0m\u001b[1;34m'Id'\u001b[0m\u001b[1;33m:\u001b[0m \u001b[1;34m\"r{}_c{}\"\u001b[0m\u001b[1;33m.\u001b[0m\u001b[0mformat\u001b[0m\u001b[1;33m(\u001b[0m\u001b[0muser\u001b[0m\u001b[1;33m,\u001b[0m\u001b[0mitem\u001b[0m\u001b[1;33m)\u001b[0m\u001b[1;33m,\u001b[0m \u001b[1;34m'Prediction'\u001b[0m\u001b[1;33m:\u001b[0m \u001b[0mpredictions\u001b[0m\u001b[1;33m[\u001b[0m\u001b[0mitem\u001b[0m\u001b[1;33m,\u001b[0m\u001b[0muser\u001b[0m\u001b[1;33m]\u001b[0m\u001b[1;33m}\u001b[0m\u001b[1;33m)\u001b[0m\u001b[1;33m\u001b[0m\u001b[0m\n\u001b[1;32m     15\u001b[0m \u001b[0mcreate_submission_csv\u001b[0m\u001b[1;33m(\u001b[0m\u001b[0muser_features\u001b[0m\u001b[1;33m.\u001b[0m\u001b[0mT\u001b[0m \u001b[1;33m@\u001b[0m \u001b[0mitem_features\u001b[0m\u001b[1;33m,\u001b[0m\u001b[1;34m\"../Data/sampleSubmission.csv\"\u001b[0m\u001b[1;33m,\u001b[0m\u001b[1;34m\"./submission.csv\"\u001b[0m\u001b[1;33m)\u001b[0m\u001b[1;33m\u001b[0m\u001b[0m\n",
      "\u001b[0;31mIndexError\u001b[0m: index 926 is out of bounds for axis 1 with size 877"
     ]
    }
   ],
   "source": [
    "from helpers import read_txt,deal_line\n",
    "import csv\n",
    "\n",
    "# UNTESTED\n",
    "\n",
    "def create_submission_csv(predictions,sample_submission_filename, submission_filename):\n",
    "    with open(submission_filename, 'w') as csvfile:\n",
    "        fieldnames = ['Id', 'Prediction']\n",
    "        writer = csv.DictWriter(csvfile, delimiter=\",\", fieldnames=fieldnames)\n",
    "        writer.writeheader()\n",
    "        sample_data = read_txt(sample_submission_filename)[1:]\n",
    "        sample_data = [deal_line(line) for line in sample_data]\n",
    "        for user,item,fake_rating in sample_data:\n",
    "            print(user,item,fake_rating)\n",
    "            print( \"r{}_c{}\".format(user,item), predictions[item,user])\n",
    "            writer.writerow({'Id': \"r{}_c{}\".format(user,item), 'Prediction': predictions[item,user]})\n",
    "create_submission_csv(user_features.T @ item_features,\"../Data/sampleSubmission.csv\",\"./submission.csv\")"
   ]
  },
  {
   "cell_type": "code",
   "execution_count": null,
   "metadata": {
    "collapsed": true
   },
   "outputs": [],
   "source": []
  }
 ],
 "metadata": {
  "anaconda-cloud": {},
  "kernelspec": {
   "display_name": "Python [Root]",
   "language": "python",
   "name": "Python [Root]"
  },
  "language_info": {
   "codemirror_mode": {
    "name": "ipython",
    "version": 3
   },
   "file_extension": ".py",
   "mimetype": "text/x-python",
   "name": "python",
   "nbconvert_exporter": "python",
   "pygments_lexer": "ipython3",
   "version": "3.5.2"
  }
 },
 "nbformat": 4,
 "nbformat_minor": 0
}

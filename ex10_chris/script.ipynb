{
 "cells": [
  {
   "cell_type": "code",
   "execution_count": 52,
   "metadata": {
    "collapsed": false
   },
   "outputs": [
    {
     "name": "stdout",
     "output_type": "stream",
     "text": [
      "The autoreload extension is already loaded. To reload it, use:\n",
      "  %reload_ext autoreload\n"
     ]
    }
   ],
   "source": [
    "# Useful starting lines\n",
    "%matplotlib inline\n",
    "\n",
    "import numpy as np\n",
    "import scipy\n",
    "import scipy.io\n",
    "import scipy.sparse as sp\n",
    "import matplotlib.pyplot as plt\n",
    "%load_ext autoreload\n",
    "%autoreload 2"
   ]
  },
  {
   "cell_type": "markdown",
   "metadata": {},
   "source": [
    "## Load the Data"
   ]
  },
  {
   "cell_type": "code",
   "execution_count": 53,
   "metadata": {
    "collapsed": false
   },
   "outputs": [
    {
     "name": "stdout",
     "output_type": "stream",
     "text": [
      "number of items: 10000, number of users: 1000\n"
     ]
    }
   ],
   "source": [
    "from helpers import load_data\n",
    "\n",
    "path_dataset = \"../Data/data_train.csv\"\n",
    "ratings = load_data(path_dataset).T # ratings: row = user, column = item"
   ]
  },
  {
   "cell_type": "markdown",
   "metadata": {},
   "source": [
    "### Plot the number of ratings per movie and user"
   ]
  },
  {
   "cell_type": "code",
   "execution_count": 54,
   "metadata": {
    "collapsed": false
   },
   "outputs": [
    {
     "data": {
      "image/png": "[encoded data removed]",
      "text/plain": [
       "<matplotlib.figure.Figure at 0x7efddcef49e8>"
      ]
     },
     "metadata": {},
     "output_type": "display_data"
    },
    {
     "name": "stdout",
     "output_type": "stream",
     "text": [
      "min # of items per user = 3, min # of users per item = 8.\n"
     ]
    }
   ],
   "source": [
    "from plots import plot_raw_data\n",
    "\n",
    "num_items_per_user, num_users_per_item = plot_raw_data(ratings)\n",
    "\n",
    "print(\"min # of items per user = {}, min # of users per item = {}.\".format(\n",
    "        min(num_items_per_user), min(num_users_per_item)))"
   ]
  },
  {
   "cell_type": "markdown",
   "metadata": {},
   "source": [
    "### Split the data into a train and test set"
   ]
  },
  {
   "cell_type": "code",
   "execution_count": 55,
   "metadata": {
    "collapsed": true
   },
   "outputs": [],
   "source": [
    "def split_data(ratings, num_items_per_user, num_users_per_item,\n",
    "               min_num_ratings, p_test=0.1):\n",
    "    \"\"\"split the ratings to training data and test data.\n",
    "    Args:\n",
    "        min_num_ratings: \n",
    "            all users and items we keep must have at least min_num_ratings per user and per item. \n",
    "    \"\"\"\n",
    "    # set seed\n",
    "    np.random.seed(988)\n",
    "    \n",
    "    # select user and item based on the condition.\n",
    "    valid_users = np.where(num_items_per_user >= min_num_ratings)[0]\n",
    "    valid_items = np.where(num_users_per_item >= min_num_ratings)[0]\n",
    "    valid_ratings = ratings[valid_items, :][: , valid_users]  \n",
    "    \n",
    "    \n",
    "    num_items, num_users = valid_ratings.shape \n",
    "    \n",
    "    # create indices\n",
    "    index_split = int(np.floor((1 - p_test) * num_items))\n",
    "    indices = np.random.permutation(num_items)\n",
    "    index_tr = indices[: index_split]\n",
    "    index_te = indices[index_split:]\n",
    "    \n",
    "    # create split\n",
    "    \n",
    "    train = valid_ratings[index_tr]\n",
    "    test = valid_ratings[index_te] \n",
    "    \n",
    "    train_full = ratings[index_tr]\n",
    "    test_full = ratings[index_te] \n",
    "        \n",
    "    print(\"Total number of nonzero elements in origial data:{v}\".format(v=ratings.nnz))\n",
    "    print(\"Total number of nonzero elements in train data:{v}\".format(v=train.nnz))\n",
    "    print(\"Total number of nonzero elements in test data:{v}\".format(v=test.nnz))\n",
    "    \n",
    "    return valid_ratings, train, test, valid_users, valid_items, train_full, test_full"
   ]
  },
  {
   "cell_type": "code",
   "execution_count": 56,
   "metadata": {
    "collapsed": false,
    "scrolled": true
   },
   "outputs": [
    {
     "name": "stdout",
     "output_type": "stream",
     "text": [
      "Total number of nonzero elements in origial data:1176952\n",
      "Total number of nonzero elements in train data:1175189\n",
      "Total number of nonzero elements in test data:0\n"
     ]
    },
    {
     "name": "stderr",
     "output_type": "stream",
     "text": [
      "/home/chris/anaconda3/lib/python3.5/site-packages/matplotlib/axes/_base.py:3045: UserWarning: Attempting to set identical bottom==top results\n",
      "in singular transformations; automatically expanding.\n",
      "bottom=-0.5, top=-0.5\n",
      "  'bottom=%s, top=%s') % (bottom, top))\n"
     ]
    },
    {
     "data": {
      "image/png": "[encoded data removed]",
      "text/plain": [
       "<matplotlib.figure.Figure at 0x7efde70630f0>"
      ]
     },
     "metadata": {},
     "output_type": "display_data"
    }
   ],
   "source": [
    "from plots import plot_train_test_data\n",
    "\n",
    "valid_ratings, train, test, valid_users, valid_items, train_full, test_full = split_data(\n",
    "    ratings, num_items_per_user, num_users_per_item, min_num_ratings=20, p_test=0)\n",
    "plot_train_test_data(train, test)"
   ]
  },
  {
   "cell_type": "markdown",
   "metadata": {},
   "source": [
    "## Implementation"
   ]
  },
  {
   "cell_type": "markdown",
   "metadata": {},
   "source": [
    "#### Initialize matrix factorization"
   ]
  },
  {
   "cell_type": "code",
   "execution_count": 57,
   "metadata": {
    "collapsed": true
   },
   "outputs": [],
   "source": [
    "def init_MF(train, num_features):\n",
    "    \"\"\"init the parameter for matrix factorization.\"\"\"\n",
    "        \n",
    "    # initalization\n",
    "    num_items, num_users = train.shape\n",
    "    item_features = np.random.randn(num_features, num_items)\n",
    "    user_features = np.random.randn(num_features, num_users)\n",
    "    \n",
    "    # mean of for each item\n",
    "    sums_train = train.sum(axis=1).reshape(num_items,)\n",
    "    counts_train = np.diff(train.tocsr().indptr) # counts number of non zero value for each row\n",
    "    mean_train_item = sums_train / counts_train\n",
    "    \n",
    "    item_features[0,:] = mean_train_item\n",
    "    \n",
    "    return user_features, item_features "
   ]
  },
  {
   "cell_type": "markdown",
   "metadata": {},
   "source": [
    "#### Cost function (RMSE)"
   ]
  },
  {
   "cell_type": "code",
   "execution_count": 58,
   "metadata": {
    "collapsed": false
   },
   "outputs": [],
   "source": [
    "from helpers import calculate_mse\n",
    "\n",
    "def compute_error(data, user_features, item_features, nz):\n",
    "    \"\"\"compute the loss (MSE) of the prediction of nonzero elements.\"\"\"\n",
    "\n",
    "    # initalization\n",
    "    prediction = (item_features.T).dot(user_features)\n",
    "    x, y = zip(*nz)\n",
    "    \n",
    "    # remove zero elements\n",
    "    prediction_nz = prediction[x,y]\n",
    "    data_nz = data[x,y]\n",
    "        \n",
    "    # rmse    \n",
    "    return np.sqrt(calculate_mse(data_nz, prediction_nz).sum() / (data.nnz))"
   ]
  },
  {
   "cell_type": "markdown",
   "metadata": {},
   "source": [
    "### Learn the Matrix Factorization using SGD"
   ]
  },
  {
   "cell_type": "code",
   "execution_count": 59,
   "metadata": {
    "collapsed": false
   },
   "outputs": [],
   "source": [
    "def matrix_factorization_SGD(train, test):\n",
    "    \"\"\"matrix factorization by SGD.\"\"\"\n",
    "    # define parameters\n",
    "    gamma = 0.01\n",
    "    num_features = 20   # K in the lecture notes\n",
    "    lambda_user = 0.1\n",
    "    lambda_item = 0.7\n",
    "    num_epochs = 5     # number of full passes through the train set\n",
    "    errors = [0]\n",
    "    \n",
    "    # set seed\n",
    "    np.random.seed(988)\n",
    "\n",
    "    # init matrix\n",
    "    user_features, item_features = init_MF(train, num_features)\n",
    "    \n",
    "    # find the non-zero ratings indices \n",
    "    nz_row, nz_col = train.nonzero()\n",
    "    nz_train = list(zip(nz_row, nz_col))\n",
    "    nz_row, nz_col = test.nonzero()\n",
    "    nz_test = list(zip(nz_row, nz_col))\n",
    "\n",
    "    print(\"learn the matrix factorization using SGD...\")\n",
    "    for it in range(num_epochs):        \n",
    "        # shuffle the training rating indices\n",
    "        np.random.shuffle(nz_train)\n",
    "        \n",
    "        # decrease step size\n",
    "        gamma /= 1.2\n",
    "        \n",
    "        for d, n in nz_train:\n",
    "        \n",
    "            e_dn = train[d,n] - (item_features[:,d].T).dot(user_features[:,n])\n",
    "            grad_user = e_dn * item_features[:, d] - lambda_user * user_features[:, n]\n",
    "            grad_item =  (e_dn * user_features[:, n] - lambda_item * item_features[:, d])\n",
    "            \n",
    "            item_features[:, d] = item_features[:, d] + gamma * grad_item\n",
    "            user_features[:, n] = user_features[:, n] + gamma * grad_user           \n",
    "                \n",
    "                \n",
    "        regularized_term = lambda_user / 2 * np.linalg.norm(user_features) + lambda_item / 2 * np.linalg.norm(item_features)    \n",
    "        rmse = compute_error(train, user_features, item_features, nz_train) \n",
    "\n",
    "        print(\"iter: {}, RMSE on training set: {}.\".format(it, rmse))\n",
    "        \n",
    "        errors.append(rmse)\n",
    "    \n",
    "    \n",
    "    print(\"TEST\")\n",
    "\n",
    "    rmse = compute_error(test, user_features, item_features, nz_test)\n",
    "    print(\"RMSE on test data: {}.\".format(rmse))   \n",
    "\n",
    "    return user_features, item_features"
   ]
  },
  {
   "cell_type": "code",
   "execution_count": 60,
   "metadata": {
    "collapsed": true
   },
   "outputs": [],
   "source": [
    "#predicted_user_features, predicted_item_features = matrix_factorization_SGD(train, test) "
   ]
  },
  {
   "cell_type": "markdown",
   "metadata": {},
   "source": [
    "### Learn the Matrix Factorization using Alternating Least Squares"
   ]
  },
  {
   "cell_type": "code",
   "execution_count": 61,
   "metadata": {
    "collapsed": true
   },
   "outputs": [],
   "source": [
    "def update_user_feature(\n",
    "        train, item_features, lambda_user,\n",
    "        nnz_items_per_user, nz_user_itemindices):\n",
    "    \"\"\"update user feature matrix.\"\"\"\n",
    "    \n",
    "    I = np.eye(item_features.shape[0])\n",
    "    item_features_nz = item_features[:, nz_user_itemindices]\n",
    "    train_nz = train[nz_user_itemindices]\n",
    "    \n",
    "    Ai = item_features_nz @ item_features_nz.T + lambda_user * I * nnz_items_per_user\n",
    "    Vi = item_features_nz @ train_nz\n",
    "\n",
    "    updated_user_features = np.linalg.solve(Ai,Vi)\n",
    "        \n",
    "    return updated_user_features.reshape(item_features.shape[0],), Vi\n",
    "    \n",
    "\n",
    "def update_item_feature(\n",
    "        train, user_features, lambda_item,\n",
    "        nnz_users_per_item, nz_item_userindices):\n",
    "    \"\"\"update item feature matrix.\"\"\"\n",
    "    \n",
    "    I = np.eye(user_features.shape[0])\n",
    "    user_features_nz = user_features[:, nz_item_userindices]\n",
    "    train_nz = train[:, nz_item_userindices]\n",
    "    \n",
    "    Ai = user_features_nz @ user_features_nz.T + lambda_item * I * nnz_users_per_item\n",
    "    Vi = user_features_nz @ train_nz.T\n",
    "    \n",
    "    updated_item_features = np.linalg.solve(Ai,Vi)\n",
    "    \n",
    "    return updated_item_features.reshape(user_features.shape[0],), Vi\n",
    "    "
   ]
  },
  {
   "cell_type": "code",
   "execution_count": 64,
   "metadata": {
    "collapsed": false
   },
   "outputs": [],
   "source": [
    "from helpers import build_index_groups\n",
    "\n",
    "\n",
    "def ALS(train, test):\n",
    "    \"\"\"Alternating Least Squares (ALS) algorithm.\"\"\"\n",
    "    # define parameters\n",
    "    num_features = 20   # K in the lecture notes\n",
    "    lambda_user = 0.065\n",
    "    lambda_item = 0.065\n",
    "    stop_criterion = 1e-3\n",
    "    change = 1\n",
    "    error_list = [0, 0]\n",
    "    \n",
    "    # set seed\n",
    "    np.random.seed(988)\n",
    "\n",
    "    # init ALS\n",
    "    user_features, item_features = init_MF(train, num_features)\n",
    "    error_list[0] = 1000\n",
    "    \n",
    "    # Calculate arguments for the update of Z and W\n",
    "    nnz_items_per_user = train.getnnz(axis=0)\n",
    "    nnz_users_per_item = train.getnnz(axis=1)\n",
    "    nz_train, nz_row_colindices, nz_col_rowindices = build_index_groups(train)   \n",
    "    \n",
    "    while (abs(error_list[0] - error_list[1]) > stop_criterion):\n",
    "                \n",
    "        # Fix W (item), estimate Z (user)\n",
    "        for i, nz_user_itemindices in nz_col_rowindices:\n",
    "            user_features[:,i], test = update_user_feature(train[:,i], item_features, lambda_user, nnz_items_per_user[i], nz_user_itemindices)\n",
    "\n",
    "        # Fix Z, estimate W\n",
    "        for j, nz_item_userindices in nz_row_colindices:\n",
    "            item_features[:,j], essai = update_item_feature(train[j], user_features, lambda_item, nnz_users_per_item[j], nz_item_userindices)\n",
    "        \n",
    "        nz_row, nz_col = train.nonzero()\n",
    "        nz_train = list(zip(nz_row, nz_col))\n",
    "        error_list[change] = compute_error(train, user_features, item_features, nz_train)\n",
    "    \n",
    "        print(\"RMSE on train data: {}\".format(error_list[change]))\n",
    "    \n",
    "        if(change == 1):\n",
    "            change = 0\n",
    "        else:\n",
    "            change = 1\n",
    "        \n",
    "    print(\"Converged\")\n",
    "    \n",
    "    #print(\"TEST\")\n",
    "    #nz_row_te, nz_col_te = test.nonzero()\n",
    "    #nz_test = list(zip(nz_row_te, nz_col_te))\n",
    "    #rmse = compute_error(test, user_features, item_features, nz_test)\n",
    "    #print(\"RMSE on test data: {}.\".format(rmse)) \n",
    "    \n",
    "    return user_features, item_features"
   ]
  },
  {
   "cell_type": "code",
   "execution_count": 65,
   "metadata": {
    "collapsed": false,
    "scrolled": true
   },
   "outputs": [
    {
     "name": "stdout",
     "output_type": "stream",
     "text": [
      "RMSE on train data: 1.002014441981339\n",
      "RMSE on train data: 0.9602813325416034\n",
      "RMSE on train data: 0.9249201764667132\n",
      "RMSE on train data: 0.9099639960176178\n",
      "RMSE on train data: 0.902226855808995\n",
      "RMSE on train data: 0.8972184690164545\n",
      "RMSE on train data: 0.8936492924626628\n",
      "RMSE on train data: 0.8909672627289607\n",
      "RMSE on train data: 0.8888795586858734\n",
      "RMSE on train data: 0.8872124749681192\n",
      "RMSE on train data: 0.8858551381214782\n",
      "RMSE on train data: 0.8847329091849512\n",
      "RMSE on train data: 0.8837933754883492\n",
      "Converged\n"
     ]
    }
   ],
   "source": [
    "predicted_user_features, predicted_item_features = ALS(train, test)"
   ]
  },
  {
   "cell_type": "markdown",
   "metadata": {},
   "source": [
    "## Post-processing"
   ]
  },
  {
   "cell_type": "code",
   "execution_count": 66,
   "metadata": {
    "collapsed": true
   },
   "outputs": [],
   "source": [
    "def add_removed_elements(features, valid_indices, num_elements):\n",
    "    \"\"\"Add removed users or items by replacing it with the mean\"\"\"\n",
    "    \n",
    "    full_features = np.zeros((features.shape[0], num_elements)) + np.mean(features, axis=1).reshape((-1,1))\n",
    "    for i, Vi in enumerate(valid_indices):\n",
    "        full_features[:, Vi] = features[:, i]\n",
    "        \n",
    "    return full_features\n",
    "\n",
    "\n",
    "def unvalid_indexes(total_elements, valid_indices):\n",
    "    \"\"\" Return the corresponding unvalid elements indices. If we remove the elements of \n",
    "                valid_indices in a data set of size total_elements\"\"\"\n",
    "    \n",
    "    return np.delete(range(total_elements),valid_indices)\n",
    "\n",
    "\n",
    "\n",
    "def fill_added_user_features(full_item_features,full_user_features,users_idx_to_calculate,train_full,\n",
    "                             lambda_user, nnz_items_per_user, nz_user_itemindices):\n",
    "    \"\"\"update user feature matrix for a specific set of indices\"\"\"\n",
    "    \n",
    "    num_users = train_full.shape[1]\n",
    "    K = full_item_features.shape[0]\n",
    "    \n",
    "    # Calculate usin full_item_features or item_features ?\n",
    "    \n",
    "    for n in users_idx_to_calculate:\n",
    "        nz_item_features_per_user = full_item_features[:, nz_user_itemindices[n]]\n",
    "        A = nz_item_features_per_user @ nz_item_features_per_user.T + nnz_items_per_user[n] * lambda_user*np.eye(K)\n",
    "        ratings_per_user_nz_items=train_full[nz_user_itemindices[n],n] \n",
    "        B = nz_item_features_per_user @ ratings_per_user_nz_items \n",
    "        full_user_features[:, n] = np.linalg.solve(A, B)[:,0] \n",
    "        \n",
    "    return full_user_features\n",
    "\n",
    "\n",
    "def fill_added_item_features(full_item_features,full_user_features,items_idx_to_calculate, train_full, lambda_item,\n",
    "                              nnz_users_per_item, nz_item_userindices):\n",
    "    \"\"\"update item feature matrix for a specific set of indices\"\"\"\n",
    "    num_items = ratings.shape[0]\n",
    "    K = full_user_features.shape[0]\n",
    "    \n",
    "    \n",
    "    # Calculate usin full_user_features or user_features ?\n",
    "    \n",
    "    for d in items_idx_to_calculate:\n",
    "        nz_user_features_per_item = full_user_features[:, nz_item_userindices[d]]\n",
    "        A = nz_user_features_per_item @ nz_user_features_per_item.T + nnz_users_per_item[d]*lambda_item*np.eye(K)\n",
    "        ratings_per_item_nz_users=train_full[d,nz_item_userindices[d]]     \n",
    "        B = nz_user_features_per_item @ ratings_per_item_nz_users.T \n",
    "        full_item_features[:, d] = np.linalg.solve(A, B)[:,0]\n",
    "        \n",
    "    return full_item_features"
   ]
  },
  {
   "cell_type": "code",
   "execution_count": 67,
   "metadata": {
    "collapsed": false
   },
   "outputs": [],
   "source": [
    "def constuct_full_features(predicted_user_features, predicted_item_features,\n",
    "                           valid_users_idx, valid_items_idx, \n",
    "                           min_num_ratings, train_full):\n",
    "    \n",
    "    if min_num_ratings == 0:\n",
    "        full_user_features = predicted_user_features\n",
    "        full_item_features = predicted_item_features\n",
    "    \n",
    "    else:\n",
    "        total_num_items,total_num_users = ratings.shape\n",
    "\n",
    "        # creates features with unvalid users and items (less than min_num_ratings) and replaces it with mean\n",
    "        full_user_features = add_removed_elements(predicted_user_features, valid_users_idx, total_num_users)\n",
    "        full_item_features = add_removed_elements(predicted_item_features, valid_items_idx, total_num_items)\n",
    "        \n",
    "        # finds indexes of unvalid users and items\n",
    "        added_users = unvalid_indexes(total_num_users, valid_users_idx)\n",
    "        added_items = unvalid_indexes(total_num_items, valid_items_idx)\n",
    "        \n",
    "        \n",
    "        nnz_items_per_user = train_full.getnnz(axis=0)\n",
    "        nnz_users_per_item = train_full.getnnz(axis=1)\n",
    "        \n",
    "        nz_user_itemindices = []\n",
    "        nz_item_userindices = []\n",
    "        nz_ratings, nz_row_colindices, nz_col_rowindices = build_index_groups(train_full)\n",
    "        \n",
    "        lambda_user = 0.065\n",
    "        lambda_item = 0.065\n",
    "\n",
    "        for row,colindices in nz_row_colindices:\n",
    "            nz_item_userindices.append(colindices)\n",
    "        for col,rowindices in nz_col_rowindices:\n",
    "            nz_user_itemindices.append(rowindices)\n",
    "            \n",
    "\n",
    "        full_item_features = fill_added_item_features(full_item_features, full_user_features, added_items, train_full, lambda_item, nnz_users_per_item, nz_item_userindices)  \n",
    "        full_user_features = fill_added_user_features(full_item_features, full_user_features, added_users, train_full, lambda_user, nnz_items_per_user, nz_user_itemindices)\n",
    "\n",
    "    return full_user_features, full_item_features"
   ]
  },
  {
   "cell_type": "code",
   "execution_count": 79,
   "metadata": {
    "collapsed": false
   },
   "outputs": [],
   "source": [
    "total_num_items,total_num_users = ratings.shape\n",
    "\n",
    "# creates features with unvalid users and items (less than min_num_ratings) and replaces it with mean\n",
    "full_user_features = add_removed_elements(predicted_user_features, valid_users, total_num_users)\n",
    "full_item_features = add_removed_elements(predicted_item_features, valid_items, total_num_items)"
   ]
  },
  {
   "cell_type": "code",
   "execution_count": 80,
   "metadata": {
    "collapsed": false
   },
   "outputs": [],
   "source": [
    "min_num_ratings = 20\n",
    "#full_user_features, full_item_features = constuct_full_features(predicted_user_features, predicted_item_features,\n",
    "#                                                                valid_users, valid_items, min_num_ratings, train_full)"
   ]
  },
  {
   "cell_type": "markdown",
   "metadata": {},
   "source": [
    "## Submission"
   ]
  },
  {
   "cell_type": "code",
   "execution_count": 81,
   "metadata": {
    "collapsed": false
   },
   "outputs": [
    {
     "data": {
      "text/plain": [
       "(1000, 10000)"
      ]
     },
     "execution_count": 81,
     "metadata": {},
     "output_type": "execute_result"
    }
   ],
   "source": [
    "(full_item_features.T @ full_user_features).shape"
   ]
  },
  {
   "cell_type": "code",
   "execution_count": 82,
   "metadata": {
    "collapsed": false
   },
   "outputs": [],
   "source": [
    "from helpers import read_txt, deal_line\n",
    "import csv\n",
    "\n",
    "def create_submission_csv(predictions, sample_submission_filename, submission_filename):\n",
    "    \n",
    "    sample_data = read_txt(sample_submission_filename)[1:]\n",
    "    sample_data = [deal_line(line) for line in sample_data]\n",
    "    \n",
    "    with open(submission_filename, 'w') as csvfile:\n",
    "        fieldnames = ['Id', 'Prediction']\n",
    "        writer = csv.DictWriter(csvfile, delimiter=\",\", fieldnames=fieldnames)\n",
    "        writer.writeheader()\n",
    "        \n",
    "        for user, item,fake_rating in sample_data:\n",
    "            writer.writerow({'Id': \"r{}_c{}\".format(user,item), 'Prediction': predictions[item-1,user-1]})\n",
    "            \n",
    "        #WARNING NEW LINE IN OUPTUT FILE"
   ]
  },
  {
   "cell_type": "code",
   "execution_count": 83,
   "metadata": {
    "collapsed": false
   },
   "outputs": [],
   "source": [
    "create_submission_csv(full_item_features.T @ full_user_features,\"../Data/sampleSubmission.csv\",\"./submission.csv\")"
   ]
  },
  {
   "cell_type": "code",
   "execution_count": null,
   "metadata": {
    "collapsed": true
   },
   "outputs": [],
   "source": []
  }
 ],
 "metadata": {
  "anaconda-cloud": {},
  "kernelspec": {
   "display_name": "Python [Root]",
   "language": "python",
   "name": "Python [Root]"
  },
  "language_info": {
   "codemirror_mode": {
    "name": "ipython",
    "version": 3
   },
   "file_extension": ".py",
   "mimetype": "text/x-python",
   "name": "python",
   "nbconvert_exporter": "python",
   "pygments_lexer": "ipython3",
   "version": "3.5.2"
  }
 },
 "nbformat": 4,
 "nbformat_minor": 0
}

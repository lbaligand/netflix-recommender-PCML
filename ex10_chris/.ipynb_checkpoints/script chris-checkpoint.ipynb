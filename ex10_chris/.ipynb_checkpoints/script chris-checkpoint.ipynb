{
 "cells": [
  {
   "cell_type": "code",
   "execution_count": 1,
   "metadata": {
    "collapsed": false
   },
   "outputs": [],
   "source": [
    "# Useful starting lines\n",
    "%matplotlib inline\n",
    "\n",
    "import numpy as np\n",
    "import scipy\n",
    "import scipy.io\n",
    "import scipy.sparse as sp\n",
    "import matplotlib.pyplot as plt\n",
    "%load_ext autoreload\n",
    "%autoreload 2"
   ]
  },
  {
   "cell_type": "markdown",
   "metadata": {},
   "source": [
    "## Load the Data"
   ]
  },
  {
   "cell_type": "code",
   "execution_count": 2,
   "metadata": {
    "collapsed": false
   },
   "outputs": [
    {
     "name": "stdout",
     "output_type": "stream",
     "text": [
      "number of items: 10000, number of users: 1000\n",
      "(1000, 10000)\n"
     ]
    }
   ],
   "source": [
    "from helpers import load_data\n",
    "\n",
    "path_dataset = \"../Data/data_train.csv\"\n",
    "ratings = load_data(path_dataset).T # ratings: row = user, column = item\n",
    "print(ratings.shape)"
   ]
  },
  {
   "cell_type": "markdown",
   "metadata": {},
   "source": [
    "### Plot the number of ratings per movie and user"
   ]
  },
  {
   "cell_type": "code",
   "execution_count": 3,
   "metadata": {
    "collapsed": false
   },
   "outputs": [
    {
     "data": {
      "image/png": "[encoded data removed]",
      "text/plain": [
       "<matplotlib.figure.Figure at 0x7f905e4ec5c0>"
      ]
     },
     "metadata": {},
     "output_type": "display_data"
    },
    {
     "name": "stdout",
     "output_type": "stream",
     "text": [
      "min # of items per user = 3, min # of users per item = 8.\n"
     ]
    }
   ],
   "source": [
    "from plots import plot_raw_data\n",
    "\n",
    "num_items_per_user, num_users_per_item = plot_raw_data(ratings)\n",
    "\n",
    "print(\"min # of items per user = {}, min # of users per item = {}.\".format(\n",
    "        min(num_items_per_user), min(num_users_per_item)))"
   ]
  },
  {
   "cell_type": "markdown",
   "metadata": {},
   "source": [
    "### Split the data into a train and test set"
   ]
  },
  {
   "cell_type": "code",
   "execution_count": 4,
   "metadata": {
    "collapsed": true
   },
   "outputs": [],
   "source": []
  },
  {
   "cell_type": "code",
   "execution_count": 5,
   "metadata": {
    "collapsed": false
   },
   "outputs": [],
   "source": []
  },
  {
   "cell_type": "code",
   "execution_count": 6,
   "metadata": {
    "collapsed": false
   },
   "outputs": [],
   "source": [
    "#normalized_ratings, mean_ratings_col, ratings_std_dev_col = normalize(ratings)"
   ]
  },
  {
   "cell_type": "code",
   "execution_count": 82,
   "metadata": {
    "collapsed": false,
    "scrolled": false
   },
   "outputs": [
    {
     "name": "stdout",
     "output_type": "stream",
     "text": [
      "Total number of nonzero elements in origial data:1176952\n",
      "Total number of nonzero elements in train data:1175189\n",
      "Total number of nonzero elements in test data:0\n"
     ]
    },
    {
     "data": {
      "image/png": "[encoded data removed]",
      "text/plain": [
       "<matplotlib.figure.Figure at 0x7f905a4159e8>"
      ]
     },
     "metadata": {},
     "output_type": "display_data"
    }
   ],
   "source": [
    "from plots import plot_train_test_data\n",
    "\n",
    "valid_ratings, train, test, valid_users, valid_items, train_full, test_full = split_data(\n",
    "    ratings, num_items_per_user, num_users_per_item, min_num_ratings = 20, p_test = 0\n",
    ")\n",
    "plot_train_test_data(train, test)"
   ]
  },
  {
   "cell_type": "markdown",
   "metadata": {},
   "source": [
    "## Implementation"
   ]
  },
  {
   "cell_type": "markdown",
   "metadata": {},
   "source": [
    "#### Initialize matrix factorization"
   ]
  },
  {
   "cell_type": "code",
   "execution_count": 8,
   "metadata": {
    "collapsed": true
   },
   "outputs": [],
   "source": []
  },
  {
   "cell_type": "markdown",
   "metadata": {},
   "source": [
    "#### Cost function (RMSE)"
   ]
  },
  {
   "cell_type": "code",
   "execution_count": 9,
   "metadata": {
    "collapsed": false
   },
   "outputs": [],
   "source": []
  },
  {
   "cell_type": "markdown",
   "metadata": {},
   "source": [
    "### Learn the Matrix Factorization using SGD"
   ]
  },
  {
   "cell_type": "code",
   "execution_count": 45,
   "metadata": {
    "collapsed": false
   },
   "outputs": [],
   "source": []
  },
  {
   "cell_type": "code",
   "execution_count": 46,
   "metadata": {
    "collapsed": false
   },
   "outputs": [
    {
     "name": "stdout",
     "output_type": "stream",
     "text": [
      "learn the matrix factorization using SGD...\n",
      "iter: 0, RMSE on training set: 1.0999529654316835.\n",
      "iter: 1, RMSE on training set: 1.0713435725073215.\n",
      "iter: 2, RMSE on training set: 1.050372014443997.\n",
      "iter: 3, RMSE on training set: 1.0367249706620294.\n",
      "iter: 4, RMSE on training set: 1.0218772645097136.\n",
      "iter: 5, RMSE on training set: 1.012365267050387.\n",
      "iter: 6, RMSE on training set: 1.0004889068078704.\n",
      "iter: 7, RMSE on training set: 0.9919509324246409.\n",
      "iter: 8, RMSE on training set: 0.9839245138638707.\n",
      "iter: 9, RMSE on training set: 0.9782251849556356.\n",
      "iter: 10, RMSE on training set: 0.9733358832415252.\n",
      "iter: 11, RMSE on training set: 0.9697556825872633.\n",
      "iter: 12, RMSE on training set: 0.9659858961050176.\n",
      "iter: 13, RMSE on training set: 0.9628856263561397.\n",
      "iter: 14, RMSE on training set: 0.9611593647849094.\n",
      "iter: 15, RMSE on training set: 0.9592698557277397.\n",
      "iter: 16, RMSE on training set: 0.9581980166022175.\n",
      "iter: 17, RMSE on training set: 0.9576565788077676.\n",
      "iter: 18, RMSE on training set: 0.95637765159276.\n",
      "iter: 19, RMSE on training set: 0.9559186091602717.\n",
      "iter: 20, RMSE on training set: 0.955386081676877.\n",
      "iter: 21, RMSE on training set: 0.9549735294417597.\n",
      "iter: 22, RMSE on training set: 0.9546895352803787.\n",
      "iter: 23, RMSE on training set: 0.9543870803351036.\n",
      "iter: 24, RMSE on training set: 0.9542110274834744.\n",
      "TEST\n",
      "RMSE on test data: 0.9903082333067952.\n"
     ]
    }
   ],
   "source": [
    "predicted_user_features_sgd, predicted_item_features_sgd = matrix_factorization_SGD(train, test) "
   ]
  },
  {
   "cell_type": "markdown",
   "metadata": {},
   "source": [
    "### Learn the Matrix Factorization using Alternating Least Squares"
   ]
  },
  {
   "cell_type": "code",
   "execution_count": 12,
   "metadata": {
    "collapsed": true
   },
   "outputs": [],
   "source": []
  },
  {
   "cell_type": "code",
   "execution_count": 85,
   "metadata": {
    "collapsed": false
   },
   "outputs": [],
   "source": []
  },
  {
   "cell_type": "code",
   "execution_count": 86,
   "metadata": {
    "collapsed": false
   },
   "outputs": [
    {
     "name": "stdout",
     "output_type": "stream",
     "text": [
      "RMSE on train data: 0.9917956480268041\n",
      "RMSE on train data: 0.9807563893797061\n",
      "RMSE on train data: 0.9631651131843968\n",
      "RMSE on train data: 0.9512197580511412\n",
      "RMSE on train data: 0.9448853421878082\n",
      "RMSE on train data: 0.941079941782415\n",
      "RMSE on train data: 0.9386039327230927\n",
      "RMSE on train data: 0.9368938460373885\n",
      "RMSE on train data: 0.9356568893451499\n",
      "RMSE on train data: 0.9347282988213549\n",
      "RMSE on train data: 0.9340087943555562\n",
      "RMSE on train data: 0.9334353524981747\n",
      "RMSE on train data: 0.9329664151700359\n",
      "RMSE on train data: 0.9325739123435055\n",
      "RMSE on train data: 0.9322386550089012\n",
      "RMSE on train data: 0.9319474806175398\n",
      "RMSE on train data: 0.9316913634018372\n",
      "RMSE on train data: 0.9314640975209607\n",
      "RMSE on train data: 0.9312613555803391\n",
      "RMSE on train data: 0.9310800171952524\n",
      "RMSE on train data: 0.9309177033346143\n",
      "RMSE on train data: 0.9307724700329107\n",
      "RMSE on train data: 0.9306426229738132\n",
      "RMSE on train data: 0.9305266186613137\n",
      "RMSE on train data: 0.9304230219257553\n",
      "RMSE on train data: 0.9303304950586084\n",
      "Converged\n",
      "\n"
     ]
    }
   ],
   "source": [
    "lambda_user = 0.15\n",
    "lambda_item = 0.04\n",
    "k = 10\n",
    "predicted_user_features_kten, predicted_item_features_kten, error_table, rmse_test = ALS(train, test, lambda_user, lambda_item, k)"
   ]
  },
  {
   "cell_type": "code",
   "execution_count": 87,
   "metadata": {
    "collapsed": false
   },
   "outputs": [
    {
     "name": "stdout",
     "output_type": "stream",
     "text": [
      "RMSE on train data: 0.9606143132600796\n",
      "RMSE on train data: 0.9592349382302675\n",
      "RMSE on train data: 0.9451424043163847\n",
      "RMSE on train data: 0.9336941151856719\n",
      "RMSE on train data: 0.9270463975665331\n",
      "RMSE on train data: 0.9230419971078154\n",
      "RMSE on train data: 0.9205114642883178\n",
      "RMSE on train data: 0.918846656068405\n",
      "RMSE on train data: 0.9177095175562766\n",
      "RMSE on train data: 0.9169055652636543\n",
      "RMSE on train data: 0.9163206398370636\n",
      "RMSE on train data: 0.9158854371608646\n",
      "RMSE on train data: 0.915556022277453\n",
      "RMSE on train data: 0.9153034102000936\n",
      "RMSE on train data: 0.9151078726538003\n",
      "RMSE on train data: 0.9149556321458951\n",
      "RMSE on train data: 0.914836819984583\n",
      "RMSE on train data: 0.9147441703908408\n",
      "Converged\n",
      "\n"
     ]
    }
   ],
   "source": [
    "lambda_user = 0.8\n",
    "lambda_item = 0.01\n",
    "k = 20\n",
    "predicted_user_features_ktwenty, predicted_item_features_ktwenty, error_table, rmse_test = ALS(train, test, lambda_user, lambda_item, k)"
   ]
  },
  {
   "cell_type": "code",
   "execution_count": 80,
   "metadata": {
    "collapsed": false
   },
   "outputs": [],
   "source": [
    "def optimize_multiple_pred():\n",
    "    a = np.linspace(0, 1.0, num=101)\n",
    "    rmse_min = 10\n",
    "    a_min = 0\n",
    "    \n",
    "    for j in range(lambda_item_list.shape[0]):\n",
    "        for i, value in enumerate(a):\n",
    "            prediction_from_two = np.multiply(predicted_item_features_list[j].T @ predicted_user_features_list[j], value) + np.multiply(predicted_item_features_kten.T @ predicted_user_features_kten, 1-value)\n",
    "            x,y = test.nonzero()\n",
    "            rmse = np.sqrt(calculate_mse(test[x,y], prediction_from_two[x,y]).sum() / (test.nnz))\n",
    "            if rmse_min > rmse:\n",
    "                rmse_min = rmse\n",
    "                a_min = value\n",
    "    \n",
    "    print(rmse_min)\n",
    "    print(a_min)\n",
    "    print(j)"
   ]
  },
  {
   "cell_type": "code",
   "execution_count": 81,
   "metadata": {
    "collapsed": false
   },
   "outputs": [
    {
     "name": "stdout",
     "output_type": "stream",
     "text": [
      "0.980510551592\n",
      "0.46\n",
      "7\n"
     ]
    }
   ],
   "source": [
    "optimize_multiple_pred()"
   ]
  },
  {
   "cell_type": "markdown",
   "metadata": {},
   "source": [
    "## Finding best lambda and number of features"
   ]
  },
  {
   "cell_type": "code",
   "execution_count": 165,
   "metadata": {
    "collapsed": false
   },
   "outputs": [
    {
     "name": "stdout",
     "output_type": "stream",
     "text": [
      "predicting for lambda_user 0.25 and lambda_item 0.01\n",
      "RMSE on train data: 0.9319117096433055\n",
      "RMSE on train data: 0.8982953871867713\n",
      "RMSE on train data: 0.8795681690766808\n",
      "RMSE on train data: 0.868445171435124\n",
      "RMSE on train data: 0.861956016531435\n",
      "RMSE on train data: 0.8578576084386107\n",
      "RMSE on train data: 0.855087441797093\n",
      "RMSE on train data: 0.8531186844981448\n",
      "RMSE on train data: 0.8516617999411679\n",
      "RMSE on train data: 0.850547494869937\n",
      "RMSE on train data: 0.8496724707499047\n",
      "Converged\n",
      "\n",
      "RMSE on test data: 1.0007996018182512.\n",
      "predicting for lambda_user 0.25 and lambda_item 0.015\n",
      "RMSE on train data: 0.9450210025053647\n",
      "RMSE on train data: 0.9150935426188379\n",
      "RMSE on train data: 0.8947272281449722\n",
      "RMSE on train data: 0.883255337941719\n",
      "RMSE on train data: 0.8767574703849302\n",
      "RMSE on train data: 0.8727178999400391\n",
      "RMSE on train data: 0.8700269906996849\n",
      "RMSE on train data: 0.8681395772473028\n",
      "RMSE on train data: 0.8667576235919597\n",
      "RMSE on train data: 0.8657087872036253\n",
      "RMSE on train data: 0.8648892913303801\n",
      "Converged\n",
      "\n",
      "RMSE on test data: 0.991840249671055.\n",
      "predicting for lambda_user 0.25 and lambda_item 0.02\n",
      "RMSE on train data: 0.9545244037629905\n",
      "RMSE on train data: 0.9312839305169538\n",
      "RMSE on train data: 0.9098882250224452\n",
      "RMSE on train data: 0.8976447575103523\n",
      "RMSE on train data: 0.890943381098342\n",
      "RMSE on train data: 0.8868485488749318\n",
      "RMSE on train data: 0.8841509667238402\n",
      "RMSE on train data: 0.8822740830139718\n",
      "RMSE on train data: 0.8809077793185175\n",
      "RMSE on train data: 0.8798745802956321\n",
      "RMSE on train data: 0.8790684893793406\n",
      "Converged\n",
      "\n",
      "RMSE on test data: 0.9874045845228524.\n",
      "predicting for lambda_user 0.25 and lambda_item 0.025\n",
      "RMSE on train data: 0.9620592994308509\n",
      "RMSE on train data: 0.9457657876521609\n",
      "RMSE on train data: 0.9250428960029556\n",
      "RMSE on train data: 0.9118394372229178\n",
      "RMSE on train data: 0.9047024692510642\n",
      "RMSE on train data: 0.9004141960773594\n",
      "RMSE on train data: 0.8976205512491453\n",
      "RMSE on train data: 0.8956895846210721\n",
      "RMSE on train data: 0.8942891956033427\n",
      "RMSE on train data: 0.8932321162582583\n",
      "RMSE on train data: 0.8924074488778543\n",
      "Converged\n",
      "\n",
      "RMSE on test data: 0.9854141420670918.\n",
      "predicting for lambda_user 0.25 and lambda_item 0.03\n",
      "RMSE on train data: 0.9684775380524177\n",
      "RMSE on train data: 0.9581380454878117\n",
      "RMSE on train data: 0.939703760309861\n",
      "RMSE on train data: 0.9258853447881414\n",
      "RMSE on train data: 0.9181879231672965\n",
      "RMSE on train data: 0.9135596575318773\n",
      "RMSE on train data: 0.9105628753194962\n",
      "RMSE on train data: 0.9085046060293002\n",
      "RMSE on train data: 0.9070190201862474\n",
      "RMSE on train data: 0.905901089091708\n",
      "RMSE on train data: 0.9050302784925152\n",
      "Converged\n",
      "\n",
      "RMSE on test data: 0.9849094724516954.\n",
      "predicting for lambda_user 0.25 and lambda_item 0.035\n",
      "RMSE on train data: 0.9742537155374195\n",
      "RMSE on train data: 0.9685125127322087\n",
      "RMSE on train data: 0.9532428539858233\n",
      "RMSE on train data: 0.9395259221671975\n",
      "RMSE on train data: 0.9314100337433782\n",
      "RMSE on train data: 0.9263961207171745\n",
      "RMSE on train data: 0.9231057014822319\n",
      "RMSE on train data: 0.920837897733051\n",
      "RMSE on train data: 0.9192049680749497\n",
      "RMSE on train data: 0.9179821001447881\n",
      "RMSE on train data: 0.9170343701429058\n",
      "Converged\n",
      "\n",
      "RMSE on test data: 0.9853711390293216.\n",
      "predicting for lambda_user 0.25 and lambda_item 0.04\n",
      "RMSE on train data: 0.9796686968628437\n",
      "RMSE on train data: 0.9772242041428909\n",
      "RMSE on train data: 0.9652199160514908\n",
      "RMSE on train data: 0.9523025376529699\n",
      "RMSE on train data: 0.9441174873289608\n",
      "RMSE on train data: 0.9388685234325173\n",
      "RMSE on train data: 0.9353107524778886\n",
      "RMSE on train data: 0.9327991280814646\n",
      "RMSE on train data: 0.930965771867728\n",
      "RMSE on train data: 0.9295873618305988\n",
      "RMSE on train data: 0.9285220469128501\n",
      "RMSE on train data: 0.9276774795741984\n",
      "Converged\n",
      "\n",
      "RMSE on test data: 0.9861463492144247.\n",
      "predicting for lambda_user 0.25 and lambda_item 0.06\n",
      "RMSE on train data: 1.000400091238466\n",
      "RMSE on train data: 1.0020977389512122\n",
      "RMSE on train data: 0.9975650180395839\n",
      "RMSE on train data: 0.9896263287614245\n",
      "RMSE on train data: 0.9828739673334975\n",
      "RMSE on train data: 0.9783538835864798\n",
      "RMSE on train data: 0.9751607822899697\n",
      "RMSE on train data: 0.9727969826843156\n",
      "RMSE on train data: 0.9710074146482012\n",
      "RMSE on train data: 0.9696122285245925\n",
      "RMSE on train data: 0.9684891847464886\n",
      "RMSE on train data: 0.9675631907718398\n",
      "Converged\n",
      "\n",
      "RMSE on test data: 0.9939850749068165.\n",
      "predicting for lambda_user 0.25 and lambda_item 0.08\n",
      "RMSE on train data: 1.0221861120999154\n",
      "RMSE on train data: 1.0202977905370505\n",
      "RMSE on train data: 1.015231962570146\n",
      "RMSE on train data: 1.0093436782550411\n",
      "RMSE on train data: 1.0034156549890758\n",
      "RMSE on train data: 0.9987817781335714\n",
      "RMSE on train data: 0.9955541601440867\n",
      "RMSE on train data: 0.9932668163685671\n",
      "RMSE on train data: 0.9915828196163654\n",
      "RMSE on train data: 0.9902842120365566\n",
      "RMSE on train data: 0.9892415832986466\n",
      "RMSE on train data: 0.9883842532962193\n",
      "Converged\n",
      "\n",
      "RMSE on test data: 1.002745424989945.\n",
      "predicting for lambda_user 0.25 and lambda_item 0.1\n",
      "RMSE on train data: 1.0460023995306285\n",
      "RMSE on train data: 1.0366618013320412\n",
      "RMSE on train data: 1.0278495407813621\n",
      "RMSE on train data: 1.0209684889734503\n",
      "RMSE on train data: 1.015378377243423\n",
      "RMSE on train data: 1.0107189298027446\n",
      "RMSE on train data: 1.007023356262735\n",
      "RMSE on train data: 1.0042757994357132\n",
      "RMSE on train data: 1.002258179676711\n",
      "RMSE on train data: 1.0007342016727117\n",
      "RMSE on train data: 0.9995477257176101\n",
      "RMSE on train data: 0.99860836805227\n",
      "Converged\n",
      "\n",
      "RMSE on test data: 1.0093554883100049.\n",
      "predicting for lambda_user 0.25 and lambda_item 0.12\n",
      "RMSE on train data: 1.0718559637018603\n",
      "RMSE on train data: 1.052393011731302\n",
      "RMSE on train data: 1.038631919841214\n",
      "RMSE on train data: 1.029430569658765\n",
      "RMSE on train data: 1.0230323945633635\n",
      "RMSE on train data: 1.0183514387898693\n",
      "RMSE on train data: 1.0147686014345403\n",
      "RMSE on train data: 1.011944789678829\n",
      "RMSE on train data: 1.0097010346805289\n",
      "RMSE on train data: 1.0079328349235945\n",
      "RMSE on train data: 1.0065576116874786\n",
      "RMSE on train data: 1.0054969951038277\n",
      "RMSE on train data: 1.0046792210944488\n",
      "Converged\n",
      "\n",
      "RMSE on test data: 1.0138427440571647.\n",
      "predicting for lambda_user 0.25 and lambda_item 0.14\n",
      "RMSE on train data: 1.0994873489538237\n",
      "RMSE on train data: 1.0677154650808143\n",
      "RMSE on train data: 1.0484496282842617\n",
      "RMSE on train data: 1.0365464159442208\n",
      "RMSE on train data: 1.0287820324760037\n",
      "RMSE on train data: 1.0234649604980428\n",
      "RMSE on train data: 1.0196774952660728\n",
      "RMSE on train data: 1.016892078279504\n",
      "RMSE on train data: 1.0147889297419046\n",
      "RMSE on train data: 1.013165460810135\n",
      "RMSE on train data: 1.0118886705704373\n",
      "RMSE on train data: 1.0108687317818985\n",
      "RMSE on train data: 1.0100435673428614\n",
      "Converged\n",
      "\n",
      "RMSE on test data: 1.0182487824382678.\n",
      "predicting for lambda_user 0.25 and lambda_item 0.16\n",
      "RMSE on train data: 1.1285727869464353\n",
      "RMSE on train data: 1.0826032751673782\n",
      "RMSE on train data: 1.0575483575156734\n",
      "RMSE on train data: 1.042891860766135\n",
      "RMSE on train data: 1.0336786332242534\n",
      "RMSE on train data: 1.0275536402106347\n",
      "RMSE on train data: 1.0233066124318724\n",
      "RMSE on train data: 1.0202662361946293\n",
      "RMSE on train data: 1.0180356816107818\n",
      "RMSE on train data: 1.0163678229798079\n",
      "RMSE on train data: 1.0151020083719378\n",
      "RMSE on train data: 1.0141300021568045\n",
      "Converged\n",
      "\n",
      "RMSE on test data: 1.0220175955985262.\n",
      "predicting for lambda_user 0.25 and lambda_item 0.18\n",
      "RMSE on train data: 1.1587936707797337\n",
      "RMSE on train data: 1.0969826114667376\n",
      "RMSE on train data: 1.0660147406509952\n",
      "RMSE on train data: 1.0486721745578538\n",
      "RMSE on train data: 1.0380751294437809\n",
      "RMSE on train data: 1.031176300062214\n",
      "RMSE on train data: 1.0264726870739367\n",
      "RMSE on train data: 1.0231537171768827\n",
      "RMSE on train data: 1.0207501657412603\n",
      "RMSE on train data: 1.0189745776775132\n",
      "RMSE on train data: 1.0176425599467362\n",
      "RMSE on train data: 1.0166312677857454\n",
      "RMSE on train data: 1.0158562532071849\n",
      "Converged\n",
      "\n",
      "RMSE on test data: 1.023692292685768.\n",
      "predicting for lambda_user 0.25 and lambda_item 0.2\n",
      "RMSE on train data: 1.1898613251420422\n",
      "RMSE on train data: 1.1107875586737048\n",
      "RMSE on train data: 1.0738966246751982\n",
      "RMSE on train data: 1.0539860706333248\n",
      "RMSE on train data: 1.0421077560712637\n",
      "RMSE on train data: 1.0345106270377984\n",
      "RMSE on train data: 1.0294047087784555\n",
      "RMSE on train data: 1.0258464305047177\n",
      "RMSE on train data: 1.0232987635406203\n",
      "RMSE on train data: 1.02143702993885\n",
      "RMSE on train data: 1.0200551692036501\n",
      "RMSE on train data: 1.0190171266310428\n",
      "RMSE on train data: 1.0182301081672271\n",
      "Converged\n",
      "\n",
      "RMSE on test data: 1.0260261808728735.\n",
      "predicting for lambda_user 0.3 and lambda_item 0.01\n",
      "RMSE on train data: 0.9346385850376431\n",
      "RMSE on train data: 0.9044661320730341\n",
      "RMSE on train data: 0.8853166993403873\n",
      "RMSE on train data: 0.8741318643941673\n",
      "RMSE on train data: 0.867671354673145\n",
      "RMSE on train data: 0.8636220166798505\n",
      "RMSE on train data: 0.8609078317022778\n",
      "RMSE on train data: 0.8589942021863272\n",
      "RMSE on train data: 0.8575876883715204\n",
      "RMSE on train data: 0.8565178732477707\n",
      "RMSE on train data: 0.8556815825107437\n",
      "Converged\n",
      "\n",
      "RMSE on test data: 0.996187213437265.\n",
      "predicting for lambda_user 0.3 and lambda_item 0.015\n",
      "RMSE on train data: 0.9476146330538084\n",
      "RMSE on train data: 0.9236459350768954\n",
      "RMSE on train data: 0.9030726172712592\n",
      "RMSE on train data: 0.8912941356036774\n",
      "RMSE on train data: 0.8847452835948387\n",
      "RMSE on train data: 0.8807261411062915\n",
      "RMSE on train data: 0.8780787970088566\n",
      "RMSE on train data: 0.8762406613489009\n",
      "RMSE on train data: 0.8749069617346439\n",
      "RMSE on train data: 0.8739028550733732\n",
      "RMSE on train data: 0.8731237513610263\n",
      "Converged\n",
      "\n",
      "RMSE on test data: 0.9884089259440288.\n",
      "predicting for lambda_user 0.3 and lambda_item 0.02\n",
      "RMSE on train data: 0.9569053856813076\n",
      "RMSE on train data: 0.9409117586605408\n",
      "RMSE on train data: 0.9207180330080275\n",
      "RMSE on train data: 0.9079814510479822\n",
      "RMSE on train data: 0.9010667838845391\n",
      "RMSE on train data: 0.8969160789696625\n",
      "RMSE on train data: 0.8942249683053496\n",
      "RMSE on train data: 0.8923774846433693\n",
      "RMSE on train data: 0.8910481971001438\n",
      "RMSE on train data: 0.8900533318535344\n",
      "Converged\n",
      "\n",
      "RMSE on test data: 0.9854430415278148.\n",
      "predicting for lambda_user 0.3 and lambda_item 0.025\n",
      "RMSE on train data: 0.9642381657379803\n",
      "RMSE on train data: 0.955313630974947\n",
      "RMSE on train data: 0.9377244509358608\n",
      "RMSE on train data: 0.9243849260050988\n",
      "RMSE on train data: 0.9169278627047935\n",
      "RMSE on train data: 0.9124604674901076\n",
      "RMSE on train data: 0.9095910404161295\n",
      "RMSE on train data: 0.9076400054666638\n",
      "RMSE on train data: 0.9062469951357259\n",
      "RMSE on train data: 0.9052100816329515\n",
      "RMSE on train data: 0.9044107686760056\n",
      "Converged\n",
      "\n",
      "RMSE on test data: 0.9842895707676746.\n",
      "predicting for lambda_user 0.3 and lambda_item 0.03\n",
      "RMSE on train data: 0.970484102207576\n",
      "RMSE on train data: 0.9669222974327292\n",
      "RMSE on train data: 0.9531433843261002\n",
      "RMSE on train data: 0.9401563096961372\n",
      "RMSE on train data: 0.9323708653030435\n",
      "RMSE on train data: 0.9275482943004459\n",
      "RMSE on train data: 0.9243915615695973\n",
      "RMSE on train data: 0.9222303601267463\n",
      "RMSE on train data: 0.920689019242796\n",
      "RMSE on train data: 0.9195475827853191\n",
      "RMSE on train data: 0.9186730020344684\n",
      "Converged\n",
      "\n",
      "RMSE on test data: 0.9848549723546479.\n",
      "predicting for lambda_user 0.3 and lambda_item 0.035\n",
      "RMSE on train data: 0.9761190868166963\n",
      "RMSE on train data: 0.9762637770950491\n",
      "Converged\n",
      "\n",
      "RMSE on test data: 1.0061402410132876.\n",
      "predicting for lambda_user 0.3 and lambda_item 0.04\n",
      "RMSE on train data: 0.9814207711836894\n",
      "RMSE on train data: 0.9839248497817991\n",
      "RMSE on train data: 0.9771540377038579\n",
      "RMSE on train data: 0.9670737426680001\n",
      "RMSE on train data: 0.9599822640981659\n",
      "RMSE on train data: 0.9553073987699259\n",
      "RMSE on train data: 0.9520296124883884\n",
      "RMSE on train data: 0.9496293637841425\n",
      "RMSE on train data: 0.947805854245365\n",
      "RMSE on train data: 0.9463834578041233\n",
      "RMSE on train data: 0.9452534506370703\n",
      "RMSE on train data: 0.9443429825303318\n",
      "Converged\n",
      "\n",
      "RMSE on test data: 0.9881046261533957.\n",
      "predicting for lambda_user 0.3 and lambda_item 0.06\n",
      "RMSE on train data: 1.0019047730820476\n",
      "RMSE on train data: 1.0058498822231923\n",
      "RMSE on train data: 1.0036367836631204\n",
      "RMSE on train data: 0.9987336860660083\n",
      "RMSE on train data: 0.9934587484666069\n",
      "RMSE on train data: 0.989672790251205\n",
      "RMSE on train data: 0.9871260854958742\n",
      "RMSE on train data: 0.9852964103088402\n",
      "RMSE on train data: 0.9838862271449289\n",
      "RMSE on train data: 0.9827664257285791\n",
      "RMSE on train data: 0.9818771297960044\n",
      "Converged\n",
      "\n",
      "RMSE on test data: 0.9992134956086774.\n",
      "predicting for lambda_user 0.3 and lambda_item 0.08\n",
      "RMSE on train data: 1.023651482266855\n",
      "RMSE on train data: 1.0228417153150169\n",
      "Converged\n",
      "\n",
      "RMSE on test data: 1.0336104288333348.\n",
      "predicting for lambda_user 0.3 and lambda_item 0.1\n",
      "RMSE on train data: 1.0475451872434356\n",
      "RMSE on train data: 1.03881275332137\n",
      "RMSE on train data: 1.0301529153415554\n",
      "RMSE on train data: 1.023784414575476\n",
      "RMSE on train data: 1.0190987474327524\n",
      "RMSE on train data: 1.0155178803307838\n",
      "RMSE on train data: 1.0126746821382673\n",
      "RMSE on train data: 1.0103650858233442\n",
      "RMSE on train data: 1.008487689221975\n",
      "RMSE on train data: 1.0069859350727945\n",
      "RMSE on train data: 1.0058085408021413\n",
      "RMSE on train data: 1.004897886808571\n",
      "Converged\n",
      "\n",
      "RMSE on test data: 1.0140108028682155.\n",
      "predicting for lambda_user 0.3 and lambda_item 0.12\n",
      "RMSE on train data: 1.0735455684387376\n",
      "RMSE on train data: 1.0545022815797924\n",
      "RMSE on train data: 1.0408003565296404\n",
      "RMSE on train data: 1.031813407874055\n",
      "RMSE on train data: 1.0257429925936536\n",
      "RMSE on train data: 1.0214873952742336\n",
      "RMSE on train data: 1.0184072741232113\n",
      "RMSE on train data: 1.016118693776502\n",
      "RMSE on train data: 1.0143810004932665\n",
      "RMSE on train data: 1.0130373383905478\n",
      "RMSE on train data: 1.0119820050624644\n",
      "RMSE on train data: 1.0111417657057593\n",
      "Converged\n",
      "\n",
      "RMSE on test data: 1.0192127096822539.\n",
      "predicting for lambda_user 0.3 and lambda_item 0.14\n",
      "RMSE on train data: 1.1013655942805818\n",
      "RMSE on train data: 1.0699411180680294\n",
      "RMSE on train data: 1.0507481663402427\n",
      "RMSE on train data: 1.0389955486282147\n",
      "RMSE on train data: 1.0313981717634846\n",
      "RMSE on train data: 1.026249803565951\n",
      "RMSE on train data: 1.0226315887521247\n",
      "RMSE on train data: 1.0200168576912874\n",
      "RMSE on train data: 1.0180862683219536\n",
      "RMSE on train data: 1.0166368293805126\n",
      "RMSE on train data: 1.0155343375986856\n",
      "RMSE on train data: 1.014687109583233\n",
      "Converged\n",
      "\n",
      "RMSE on test data: 1.0225500556191938.\n",
      "predicting for lambda_user 0.3 and lambda_item 0.16\n",
      "RMSE on train data: 1.1306640545231752\n",
      "RMSE on train data: 1.0850188399910656\n",
      "RMSE on train data: 1.0600758893494269\n",
      "RMSE on train data: 1.0455726984410234\n",
      "RMSE on train data: 1.036503577427635\n",
      "RMSE on train data: 1.0305079046163448\n",
      "RMSE on train data: 1.0263777641230225\n",
      "RMSE on train data: 1.0234440793612112\n",
      "RMSE on train data: 1.0213113577312567\n",
      "RMSE on train data: 1.0197331972977566\n",
      "RMSE on train data: 1.018549352011521\n",
      "RMSE on train data: 1.0176518638169065\n",
      "Converged\n",
      "\n",
      "RMSE on test data: 1.0254574846954518.\n",
      "predicting for lambda_user 0.3 and lambda_item 0.18\n",
      "RMSE on train data: 1.1611107694700615\n",
      "RMSE on train data: 1.0996219391692788\n",
      "RMSE on train data: 1.0688091836112705\n",
      "RMSE on train data: 1.0516413962284974\n",
      "RMSE on train data: 1.0412017368378026\n",
      "RMSE on train data: 1.0344438872965993\n",
      "RMSE on train data: 1.0298688659515716\n",
      "RMSE on train data: 1.0266684241974902\n",
      "RMSE on train data: 1.0243743501862692\n",
      "RMSE on train data: 1.0226995428934091\n",
      "RMSE on train data: 1.0214597169824913\n",
      "RMSE on train data: 1.0205321091688384\n",
      "Converged\n",
      "\n",
      "RMSE on test data: 1.0282919376368596.\n",
      "predicting for lambda_user 0.3 and lambda_item 0.2\n",
      "RMSE on train data: 1.1924091977616862\n",
      "RMSE on train data: 1.113664801564086\n",
      "RMSE on train data: 1.0769718936121682\n",
      "RMSE on train data: 1.0572638024305914\n",
      "RMSE on train data: 1.0455661462466452\n",
      "RMSE on train data: 1.0381322832375073\n",
      "RMSE on train data: 1.0331764271306279\n",
      "RMSE on train data: 1.0297568304352533\n",
      "RMSE on train data: 1.0273369922832452\n",
      "RMSE on train data: 1.0255922701910885\n",
      "RMSE on train data: 1.0243165681245876\n",
      "RMSE on train data: 1.0233739159220054\n",
      "Converged\n",
      "\n",
      "RMSE on test data: 1.0310904714763616.\n",
      "predicting for lambda_user 0.35 and lambda_item 0.01\n",
      "RMSE on train data: 0.9372111545377014\n",
      "RMSE on train data: 0.9104655573038335\n",
      "RMSE on train data: 0.8909541170678535\n",
      "RMSE on train data: 0.8796652093693982\n",
      "RMSE on train data: 0.8732136076158893\n",
      "RMSE on train data: 0.8692015489987226\n",
      "RMSE on train data: 0.8665337190457196\n",
      "RMSE on train data: 0.8646667675114463\n",
      "RMSE on train data: 0.8633035769343735\n",
      "RMSE on train data: 0.8622726199901498\n",
      "RMSE on train data: 0.8614706551688797\n",
      "Converged\n",
      "\n",
      "RMSE on test data: 0.9926367851431281.\n",
      "predicting for lambda_user 0.35 and lambda_item 0.015\n",
      "RMSE on train data: 0.950014301015125\n",
      "RMSE on train data: 0.9314643396209195\n",
      "RMSE on train data: 0.9112526624524352\n",
      "RMSE on train data: 0.8991273689864305\n",
      "RMSE on train data: 0.8924747202637471\n",
      "RMSE on train data: 0.8884475946192024\n",
      "RMSE on train data: 0.8858259031320077\n",
      "RMSE on train data: 0.8840240549547195\n",
      "RMSE on train data: 0.8827287782679085\n",
      "RMSE on train data: 0.8817618653105528\n",
      "Converged\n",
      "\n",
      "RMSE on test data: 0.9863249639799252.\n",
      "predicting for lambda_user 0.35 and lambda_item 0.02\n",
      "RMSE on train data: 0.9590835235358448\n",
      "RMSE on train data: 0.9491053633978617\n",
      "RMSE on train data: 0.9310083685182644\n",
      "RMSE on train data: 0.9180525987673616\n",
      "RMSE on train data: 0.9108932583551194\n",
      "RMSE on train data: 0.9066280469979093\n",
      "RMSE on train data: 0.9039006461047917\n",
      "RMSE on train data: 0.9020544380173793\n",
      "RMSE on train data: 0.9007432812308338\n",
      "RMSE on train data: 0.8997735223439298\n",
      "Converged\n",
      "\n",
      "RMSE on test data: 0.9841793335603376.\n",
      "predicting for lambda_user 0.35 and lambda_item 0.025\n",
      "RMSE on train data: 0.9662179407023933\n",
      "RMSE on train data: 0.962918147802241\n",
      "RMSE on train data: 0.9490043907533224\n",
      "RMSE on train data: 0.9362784305513133\n",
      "RMSE on train data: 0.9287366701235579\n",
      "RMSE on train data: 0.9241123616649842\n",
      "RMSE on train data: 0.9211206989797271\n",
      "RMSE on train data: 0.919095669136177\n",
      "RMSE on train data: 0.9176664485391173\n",
      "RMSE on train data: 0.9166181347919264\n",
      "RMSE on train data: 0.9158220247792417\n",
      "Converged\n",
      "\n",
      "RMSE on test data: 0.9841594411852314.\n",
      "predicting for lambda_user 0.35 and lambda_item 0.03\n",
      "RMSE on train data: 0.9723003230684454\n",
      "RMSE on train data: 0.9735450105021958\n",
      "RMSE on train data: 0.9641301999713452\n",
      "RMSE on train data: 0.952837676002493\n",
      "RMSE on train data: 0.9455272616655779\n",
      "RMSE on train data: 0.9408308304642528\n",
      "RMSE on train data: 0.9376502641271408\n",
      "RMSE on train data: 0.9354113781270997\n",
      "RMSE on train data: 0.9337852773092864\n",
      "RMSE on train data: 0.9325735490206811\n",
      "RMSE on train data: 0.9316491437303143\n",
      "Converged\n",
      "\n",
      "RMSE on test data: 0.9857378270758551.\n",
      "predicting for lambda_user 0.35 and lambda_item 0.035\n",
      "RMSE on train data: 0.9778045764283775\n",
      "RMSE on train data: 0.9818657847546494\n",
      "RMSE on train data: 0.9761294323828633\n",
      "RMSE on train data: 0.9668459979773704\n",
      "RMSE on train data: 0.9602437270100129\n",
      "RMSE on train data: 0.9559177680015019\n",
      "RMSE on train data: 0.9528994511194709\n",
      "RMSE on train data: 0.9507004887217506\n",
      "RMSE on train data: 0.9490344095054543\n",
      "RMSE on train data: 0.9477346606513759\n",
      "RMSE on train data: 0.9467005532741709\n",
      "RMSE on train data: 0.9458659546716277\n",
      "Converged\n",
      "\n",
      "RMSE on test data: 0.9879406377363609.\n",
      "predicting for lambda_user 0.35 and lambda_item 0.04\n",
      "RMSE on train data: 0.9830036931861432\n",
      "RMSE on train data: 0.9886229860761104\n",
      "RMSE on train data: 0.9854076162571768\n",
      "RMSE on train data: 0.9781170012473027\n",
      "RMSE on train data: 0.972268437077093\n",
      "RMSE on train data: 0.96845805785133\n",
      "RMSE on train data: 0.9657945828990967\n",
      "RMSE on train data: 0.9638522682861203\n",
      "RMSE on train data: 0.9623862127629738\n",
      "RMSE on train data: 0.9612341481056201\n",
      "RMSE on train data: 0.9602995315190833\n",
      "Converged\n",
      "\n",
      "RMSE on test data: 0.9911746684941749.\n",
      "predicting for lambda_user 0.35 and lambda_item 0.06\n",
      "RMSE on train data: 1.0032777033489035\n",
      "RMSE on train data: 1.008419437793371\n",
      "RMSE on train data: 1.0071776937886108\n",
      "RMSE on train data: 1.0040960090738698\n",
      "RMSE on train data: 1.0002451160610248\n",
      "RMSE on train data: 0.996909769959841\n",
      "RMSE on train data: 0.994560843968177\n",
      "RMSE on train data: 0.992935729201286\n",
      "RMSE on train data: 0.9917785500927153\n",
      "RMSE on train data: 0.9909223733614531\n",
      "Converged\n",
      "\n",
      "RMSE on test data: 1.0039850344428924.\n",
      "predicting for lambda_user 0.35 and lambda_item 0.08\n",
      "RMSE on train data: 1.0250118857853003\n",
      "RMSE on train data: 1.0247266130651254\n",
      "Converged\n",
      "\n",
      "RMSE on test data: 1.034566321150412.\n",
      "predicting for lambda_user 0.35 and lambda_item 0.1\n",
      "RMSE on train data: 1.049001951495819\n",
      "RMSE on train data: 1.0405777140915906\n",
      "RMSE on train data: 1.0319650194375667\n",
      "RMSE on train data: 1.0257947369206724\n",
      "RMSE on train data: 1.0214127845900465\n",
      "RMSE on train data: 1.0182258100909587\n",
      "RMSE on train data: 1.0158479058719418\n",
      "RMSE on train data: 1.0140322479034656\n",
      "RMSE on train data: 1.0126173572245323\n",
      "RMSE on train data: 1.0114947658729647\n",
      "RMSE on train data: 1.0105899524532211\n",
      "Converged\n",
      "\n",
      "RMSE on test data: 1.0187242584977962.\n",
      "predicting for lambda_user 0.35 and lambda_item 0.12\n",
      "RMSE on train data: 1.0751627311594745\n",
      "RMSE on train data: 1.0563723795598912\n",
      "RMSE on train data: 1.042743522948099\n",
      "RMSE on train data: 1.0338962568538677\n",
      "RMSE on train data: 1.0279714351301192\n",
      "RMSE on train data: 1.0238551323194038\n",
      "RMSE on train data: 1.0209081142791938\n",
      "RMSE on train data: 1.0187481441684307\n",
      "RMSE on train data: 1.0171358448999253\n",
      "RMSE on train data: 1.0159150489073474\n",
      "RMSE on train data: 1.0149802770492142\n",
      "Converged\n",
      "\n",
      "RMSE on test data: 1.0228392801624626.\n",
      "predicting for lambda_user 0.35 and lambda_item 0.14\n",
      "RMSE on train data: 1.1031812198337994\n",
      "RMSE on train data: 1.0720115724983728\n",
      "RMSE on train data: 1.0529403232453962\n",
      "RMSE on train data: 1.041337043225932\n",
      "RMSE on train data: 1.0338729941058384\n",
      "RMSE on train data: 1.028840521796772\n",
      "RMSE on train data: 1.0253247293317198\n",
      "RMSE on train data: 1.022801887887921\n",
      "RMSE on train data: 1.0209543813886317\n",
      "RMSE on train data: 1.0195802031549435\n",
      "RMSE on train data: 1.0185457511799914\n",
      "RMSE on train data: 1.0177597713306112\n",
      "Converged\n",
      "\n",
      "RMSE on test data: 1.0255635636591702.\n",
      "predicting for lambda_user 0.35 and lambda_item 0.16\n",
      "RMSE on train data: 1.132699801861386\n",
      "RMSE on train data: 1.0873301820507257\n",
      "RMSE on train data: 1.0625554173585974\n",
      "RMSE on train data: 1.0482247357049541\n",
      "RMSE on train data: 1.039305445643752\n",
      "RMSE on train data: 1.0334415327755968\n",
      "RMSE on train data: 1.029430011100591\n",
      "RMSE on train data: 1.026604397823273\n",
      "RMSE on train data: 1.0245703705565046\n",
      "RMSE on train data: 1.0230820413462813\n",
      "RMSE on train data: 1.0219794452030881\n",
      "RMSE on train data: 1.02115487995393\n",
      "Converged\n",
      "\n",
      "RMSE on test data: 1.028905234030151.\n",
      "predicting for lambda_user 0.35 and lambda_item 0.18\n",
      "RMSE on train data: 1.163377422779702\n",
      "RMSE on train data: 1.1021896402403988\n",
      "RMSE on train data: 1.0715871377662622\n",
      "RMSE on train data: 1.0546183830972258\n",
      "RMSE on train data: 1.0443515398741654\n",
      "RMSE on train data: 1.0377474986779291\n",
      "RMSE on train data: 1.0333119809643656\n",
      "RMSE on train data: 1.030238758492684\n",
      "RMSE on train data: 1.0280603744702332\n",
      "RMSE on train data: 1.026490039495166\n",
      "RMSE on train data: 1.0253437246333028\n",
      "RMSE on train data: 1.0244990276548176\n",
      "Converged\n",
      "\n",
      "RMSE on test data: 1.0321989190720633.\n",
      "predicting for lambda_user 0.35 and lambda_item 0.2\n",
      "RMSE on train data: 1.1949101652847296\n",
      "RMSE on train data: 1.1164922203256331\n",
      "RMSE on train data: 1.080049334415078\n",
      "RMSE on train data: 1.0605689119625177\n",
      "RMSE on train data: 1.0490697465378283\n",
      "RMSE on train data: 1.0418135525641963\n",
      "RMSE on train data: 1.0370189040138797\n",
      "RMSE on train data: 1.0337457088475481\n",
      "RMSE on train data: 1.0314580364998291\n",
      "RMSE on train data: 1.0298315423594884\n",
      "RMSE on train data: 1.028660506746492\n",
      "RMSE on train data: 1.027809535613508\n",
      "Converged\n",
      "\n",
      "RMSE on test data: 1.035460982465149.\n"
     ]
    }
   ],
   "source": [
    "def finding_lambdas(train,test,lambda_user_array,lambda_item_array):\n",
    "    rmse_train_array=[]\n",
    "    rmse_test_array=[]\n",
    "    \n",
    "    nz_row_te, nz_col_te = test.nonzero()\n",
    "    nz_test = list(zip(nz_row_te, nz_col_te))\n",
    "    nz_row_tr, nz_col_tr = train.nonzero()\n",
    "    nz_train = list(zip(nz_row_tr, nz_col_tr))\n",
    "    num_features = 20\n",
    "\n",
    "    for lambda_user in lambda_user_array:\n",
    "        rmse_train_array_user=[]\n",
    "        rmse_test_array_user=[]\n",
    "        for lambda_item in lambda_item_array:\n",
    "            print(\"predicting for lambda_user {} and lambda_item {}\".format(lambda_user,lambda_item))\n",
    "            predicted_user_features, predicted_item_features, _, __ = ALS(train, test,lambda_user,lambda_item,num_features)\n",
    "            rmse_train_array_user.append(compute_error(train, predicted_user_features, predicted_item_features, nz_train))\n",
    "            rmse_test_array_user.append(compute_error(test, predicted_user_features, predicted_item_features, nz_test))\n",
    "        rmse_train_array.append(rmse_train_array_user)\n",
    "        rmse_test_array.append(rmse_test_array_user)\n",
    "    #print(np.array(rmse_test_array))\n",
    "    return np.array(rmse_train_array),np.array(rmse_test_array)\n",
    "\n",
    "lambda_table_user = np.array([0.25, 0.3, 0.35])\n",
    "lambda_table_item = np.array([0.01,0.015,0.02,0.025,0.03,0.035,0.04,0.06,0.08,0.1,0.12,0.14,0.16,0.18,0.2])\n",
    "\n",
    "results_train_lambda, results_test_lambda = finding_lambdas(train, test, lambda_table_user, lambda_table_item)"
   ]
  },
  {
   "cell_type": "code",
   "execution_count": 452,
   "metadata": {
    "collapsed": true
   },
   "outputs": [],
   "source": []
  },
  {
   "cell_type": "code",
   "execution_count": 453,
   "metadata": {
    "collapsed": false
   },
   "outputs": [],
   "source": [
    "results_test_lambda_complete = np.array([\n",
    "       [ 1.02759407,  1.01551833,  1.00801167,  1.0020854 ,  0.99806348, #lambda = 0.1\n",
    "         0.9950844 ,  0.99286152,  0.98795459,  0.98685358,  0.98764806,\n",
    "         0.99005376,  0.99258021,  0.99655324,  0.99989937,  1.0029597 ],\n",
    "       [ 1.01538586,  1.00420938,  0.99741154,  0.99306237,  0.99025728, #lambda = 0.15\n",
    "         0.98849889,  0.98701754,  0.9866398 ,  0.98960704,  0.9945488 ,\n",
    "         0.99975104,  1.00440176,  1.00812465,  1.0113862 ,  1.01416642],\n",
    "       [ 1.00692633,  0.9968172 ,  0.99119129,  0.98803177,  0.98640009, #lambda = 0.2\n",
    "         0.98578441,  0.98547544,  0.98918367,  0.99609117,  1.00284443,\n",
    "         1.00815487,  1.01252118,  1.01542597,  1.01942391,  1.02168969],\n",
    "       [ 1.0007996 ,  0.99184025,  0.98740458,  0.98541414,  0.98490947, #lambda = 0.25\n",
    "         0.98537114,  0.98614635,  0.99398507,  1.00274542,  1.00935549,\n",
    "         1.01384274,  1.01824878,  1.0220176 ,  1.02369229,  1.02602618],\n",
    "       [ 0.99618721,  0.98840893,  0.98544304,  0.98428957,  0.98485497, #lambda = 0.3\n",
    "         1.00614024,  0.98810463,  0.9992135 ,  1.03361043,  1.0140108 ,\n",
    "         1.01921271,  1.02255006,  1.02545748,  1.02829194,  1.03109047],\n",
    "       [ 0.99263679,  0.98632496,  0.98417933,  0.98415944,  0.98573783, #lambda = 0.35\n",
    "         0.98794064,  0.99117467,  1.00398503,  1.03456632,  1.01872426,\n",
    "         1.02283928,  1.02556356,  1.02890523,  1.03219892,  1.03546098],\n",
    "       [ 0.99018196,  0.98469486,  0.98366111,  1.00242328,  0.98727653, #lambda = 0.4\n",
    "         0.99063156,  0.99464545,  1.01890835,  1.03549477,  1.02202315,\n",
    "         1.02539542,  1.02931856,  1.03240793,  1.03616565,  1.03989342],\n",
    "       [ 0.98626445,  0.9830615,   0.98403657,  0.98726497,  0.9917705,  #lambda = 0.5\n",
    "         1.00580138,  1.00900763,  1.02079592,  1.03731797,  1.02626409,\n",
    "         1.03057501,  1.03540659,  1.04015343,  1.04484194,  1.04948934], \n",
    "       [ 0.98389823,  0.9997006 ,  0.98594334,  1.00061031,  1.00425459, #lambda = 0.6\n",
    "         1.00170267,  1.0097585 ,  1.0224479 ,  1.03913499,  1.03055464,\n",
    "         1.03651561,  1.04231748,  1.04728534,  1.05289198,  1.05845555],\n",
    "       [ 0.98258807,  0.98369456,  0.9888138 ,  1.00224496,  1.00451603, #lambda = 0.7\n",
    "         1.00834432,  1.01157981,  1.02403968,  1.040967  ,  1.03557486,\n",
    "         1.04179904,  1.04850725,  1.0551033 ,  1.06161811,  1.06807184],\n",
    "       [ 0.98203391,  0.98518159,  0.99970089,  0.9986069 ,  1.00642688, #lambda = 0.8\n",
    "         1.00988322,  1.01298148,  1.02562964,  1.04282313,  1.03992536,\n",
    "         1.04781498,  1.05476392,  1.06226109,  1.06967215,  1.07701612],\n",
    "       [ 0.99855844,  0.98717726,  0.99493095,  1.00393785,  1.00781921, #lambda = 0.9\n",
    "         1.01110089,  1.0142171 ,  1.02723925,  1.04470772,  1.04499421,\n",
    "         1.05311966,  1.06169123,  1.06945571,  1.07775344,  1.08597568]])\n",
    "\n",
    "lambda_table_user_c = np.array([0.1, 0.15, 0.2, 0.25, 0.3, 0.35, 0.4, 0.5, 0.6, 0.7, 0.8, 0.9])\n",
    "lambda_table_item = np.array([0.01,0.015,0.02,0.025,0.03,0.035,0.04,0.06,0.08,0.1,0.12,0.14,0.16,0.18,0.2])"
   ]
  },
  {
   "cell_type": "code",
   "execution_count": 454,
   "metadata": {
    "collapsed": false
   },
   "outputs": [
    {
     "data": {
      "image/png": "[encoded data removed]",
      "text/plain": [
       "<matplotlib.figure.Figure at 0x7f2b5cfe1828>"
      ]
     },
     "metadata": {},
     "output_type": "display_data"
    }
   ],
   "source": [
    "plot_every_lambda(results_test_lambda_complete, lambda_table_user_c, lambda_table_item)"
   ]
  },
  {
   "cell_type": "markdown",
   "metadata": {},
   "source": [
    "## Post-processing"
   ]
  },
  {
   "cell_type": "code",
   "execution_count": 92,
   "metadata": {
    "collapsed": true
   },
   "outputs": [],
   "source": []
  },
  {
   "cell_type": "code",
   "execution_count": 93,
   "metadata": {
    "collapsed": false
   },
   "outputs": [],
   "source": []
  },
  {
   "cell_type": "code",
   "execution_count": 94,
   "metadata": {
    "collapsed": false
   },
   "outputs": [],
   "source": [
    "min_num_ratings = 20\n",
    "full_user_features_ktwenty, full_item_features_ktwenty = constuct_full_features(predicted_user_features_ktwenty, predicted_item_features_ktwenty,\n",
    "                                                                valid_users, valid_items, min_num_ratings, train_full,\n",
    "                                                                lambda_user, lambda_item)\n",
    "full_user_features_kten, full_item_features_kten = constuct_full_features(predicted_user_features_kten, predicted_item_features_kten,\n",
    "                                                                valid_users, valid_items, min_num_ratings, train_full,\n",
    "                                                                lambda_user, lambda_item)"
   ]
  },
  {
   "cell_type": "code",
   "execution_count": 95,
   "metadata": {
    "collapsed": true
   },
   "outputs": [],
   "source": [
    "#predictions = full_item_features.T @ full_user_features"
   ]
  },
  {
   "cell_type": "code",
   "execution_count": 98,
   "metadata": {
    "collapsed": false
   },
   "outputs": [],
   "source": [
    "value = 0.46\n",
    "full_prediction_from_two = np.multiply(full_item_features_ktwenty.T @ full_user_features_ktwenty, value) + np.multiply(full_item_features_kten.T @ full_user_features_kten, 1-value)"
   ]
  },
  {
   "cell_type": "markdown",
   "metadata": {},
   "source": [
    "## Submission"
   ]
  },
  {
   "cell_type": "code",
   "execution_count": 100,
   "metadata": {
    "collapsed": false
   },
   "outputs": [],
   "source": []
  },
  {
   "cell_type": "code",
   "execution_count": 102,
   "metadata": {
    "collapsed": false
   },
   "outputs": [],
   "source": [
    "create_submission_csv(full_prediction_from_two,\"../Data/sampleSubmission.csv\",\"./submission.csv\")"
   ]
  },
  {
   "cell_type": "code",
   "execution_count": 104,
   "metadata": {
    "collapsed": true
   },
   "outputs": [],
   "source": [
    "# best k = 10, p = 0, lambda user = 0.15, lambda item = 0.04, min rating 20 without normalizing\n",
    "# and k = 20, p = 0, lambda user = 0.8, lambda item = 0.01, min ratings 20 without normalizing\n",
    "# split 0.46 for k = 20 and 0.54 k = 10"
   ]
  }
 ],
 "metadata": {
  "anaconda-cloud": {},
  "kernelspec": {
   "display_name": "Python [conda root]",
   "language": "python",
   "name": "conda-root-py"
  },
  "language_info": {
   "codemirror_mode": {
    "name": "ipython",
    "version": 3
   },
   "file_extension": ".py",
   "mimetype": "text/x-python",
   "name": "python",
   "nbconvert_exporter": "python",
   "pygments_lexer": "ipython3",
   "version": "3.5.2"
  }
 },
 "nbformat": 4,
 "nbformat_minor": 0
}
